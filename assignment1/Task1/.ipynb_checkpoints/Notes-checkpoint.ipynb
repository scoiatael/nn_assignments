{
 "cells": [
  {
   "cell_type": "markdown",
   "metadata": {},
   "source": [
    "Configuring the environment\n",
    "=======================\n",
    "\n",
    "Python Distributions\n",
    "-------------------\n",
    "\n",
    "Numerical and scientific packages for Python are not part of the core library and sometimes are missing. Moreover, for optimal performance they should be linked against fast mathematical libraries. We recommend using a prebuilt scientific Python distribution:\n",
    "\n",
    "- Windows:\n",
    "\t- WinPython https://winpython.github.io/ Free, new packages can be installed from http://www.lfd.uci.edu/~gohlke/pythonlibs/\n",
    "- Windows, Linux, Mac:\n",
    "\t- Anaconda Python https://store.continuum.io/cshop/anaconda/ free for academic usage, you will need to obtain a license though\n",
    "\t- Enthought Canopy https://www.enthought.com/products/canopy/\n",
    "\n",
    "On computers in **lab 110 and 137** I have installed Anaconda Python, to use it please `source /pio/os/anaconda/set-env.sh` in your bash prompt.\n",
    "\n",
    "Text editor\n",
    "-------------\n",
    "\n",
    "I like using Eclipse and [Pydev](http://pydev.org/). Subjectively, it has the best code completion and remote debugging capabilities.\n",
    "\n",
    "Other environments are:\n",
    "\n",
    "- any other Python GUI (PyCharm, ...)\n",
    "- Spyder - something Matlab-like, seems promising\n",
    "- Canopy Editor - comes with Canopy Python, not installed in our labs\n",
    "\n",
    "Interactive environment\n",
    "---------------------------------\n",
    "\n",
    "The best interactive environment is the IPython console. For Windows you will need a decent terminal emulator - such as [ConEmu](https://code.google.com/p/conemu-maximus5/)). IPython also has a web interface, availabla as `ipython notebook`.\n",
    "\n",
    "I will upload my IPython profile - it has the ability to print the shape of numpy arrays, which is handy for debugging."
   ]
  },
  {
   "cell_type": "markdown",
   "metadata": {},
   "source": [
    "## Short IPython description\n",
    "\n",
    "IPython (Interactive Python) is a better command prompt for Python. Cool features are:\n",
    "\n",
    "- tab completion\n",
    "- help - to access type `command?` or `command??`\n",
    "- magic functions (`%magic`)\n",
    "- integration with GUI loops, (`%gui`)\n",
    "\n",
    "Moreover the notebook provides:\n",
    "- mixing of code and descriptions\n",
    "- plot embedding\n",
    "- data pretty-printing\n",
    "\n",
    "In the notebook we can run cells with `Ctrl+Enter`, while hittin `Shift+Enter` will evaluate a cell and move onto the next one."
   ]
  },
  {
   "cell_type": "code",
   "execution_count": 2,
   "metadata": {
    "collapsed": false
   },
   "outputs": [
    {
     "data": {
      "text/plain": [
       "3"
      ]
     },
     "execution_count": 2,
     "metadata": {},
     "output_type": "execute_result"
    }
   ],
   "source": []
  },
  {
   "cell_type": "code",
   "execution_count": 3,
   "metadata": {
    "collapsed": false
   },
   "outputs": [],
   "source": [
    "# Help. This works alsi in the console IPython\n",
    "help?"
   ]
  },
  {
   "cell_type": "code",
   "execution_count": 4,
   "metadata": {
    "collapsed": false
   },
   "outputs": [],
   "source": [
    "help??"
   ]
  },
  {
   "cell_type": "code",
   "execution_count": 5,
   "metadata": {
    "collapsed": false
   },
   "outputs": [],
   "source": [
    "# IPython help\n",
    "?"
   ]
  },
  {
   "cell_type": "code",
   "execution_count": null,
   "metadata": {
    "collapsed": false
   },
   "outputs": [],
   "source": [
    "%quickref"
   ]
  },
  {
   "cell_type": "code",
   "execution_count": 6,
   "metadata": {
    "collapsed": false
   },
   "outputs": [],
   "source": [
    "# Help on magic functions\n",
    "%magic"
   ]
  },
  {
   "cell_type": "code",
   "execution_count": null,
   "metadata": {
    "collapsed": false
   },
   "outputs": [],
   "source": [
    "# ! this runs a shell command\n",
    "!ipython locate profile"
   ]
  },
  {
   "cell_type": "markdown",
   "metadata": {
    "collapsed": false
   },
   "source": [
    "## numpy\n",
    "\n",
    "`numpy` provides a flexible array type, that we will extensively use."
   ]
  },
  {
   "cell_type": "code",
   "execution_count": 1,
   "metadata": {
    "collapsed": false
   },
   "outputs": [
    {
     "ename": "ImportError",
     "evalue": "No module named matplotlib",
     "output_type": "error",
     "traceback": [
      "\u001b[1;31m---------------------------------------------------------------------------\u001b[0m",
      "\u001b[1;31mImportError\u001b[0m                               Traceback (most recent call last)",
      "\u001b[1;32m<ipython-input-1-b528d33a2855>\u001b[0m in \u001b[0;36m<module>\u001b[1;34m()\u001b[0m\n\u001b[0;32m      1\u001b[0m \u001b[1;31m# %pylab loads numerical libraries and adds GUI loop integration.\u001b[0m\u001b[1;33m\u001b[0m\u001b[1;33m\u001b[0m\u001b[0m\n\u001b[0;32m      2\u001b[0m \u001b[1;31m# Inline means displaying plots in the notebook itself.\u001b[0m\u001b[1;33m\u001b[0m\u001b[1;33m\u001b[0m\u001b[0m\n\u001b[1;32m----> 3\u001b[1;33m \u001b[0mget_ipython\u001b[0m\u001b[1;33m(\u001b[0m\u001b[1;33m)\u001b[0m\u001b[1;33m.\u001b[0m\u001b[0mmagic\u001b[0m\u001b[1;33m(\u001b[0m\u001b[1;34mu'pylab inline'\u001b[0m\u001b[1;33m)\u001b[0m\u001b[1;33m\u001b[0m\u001b[0m\n\u001b[0m",
      "\u001b[1;32m/usr/lib/python2.7/site-packages/IPython/core/interactiveshell.pyc\u001b[0m in \u001b[0;36mmagic\u001b[1;34m(self, arg_s)\u001b[0m\n\u001b[0;32m   2334\u001b[0m         \u001b[0mmagic_name\u001b[0m\u001b[1;33m,\u001b[0m \u001b[0m_\u001b[0m\u001b[1;33m,\u001b[0m \u001b[0mmagic_arg_s\u001b[0m \u001b[1;33m=\u001b[0m \u001b[0marg_s\u001b[0m\u001b[1;33m.\u001b[0m\u001b[0mpartition\u001b[0m\u001b[1;33m(\u001b[0m\u001b[1;34m' '\u001b[0m\u001b[1;33m)\u001b[0m\u001b[1;33m\u001b[0m\u001b[0m\n\u001b[0;32m   2335\u001b[0m         \u001b[0mmagic_name\u001b[0m \u001b[1;33m=\u001b[0m \u001b[0mmagic_name\u001b[0m\u001b[1;33m.\u001b[0m\u001b[0mlstrip\u001b[0m\u001b[1;33m(\u001b[0m\u001b[0mprefilter\u001b[0m\u001b[1;33m.\u001b[0m\u001b[0mESC_MAGIC\u001b[0m\u001b[1;33m)\u001b[0m\u001b[1;33m\u001b[0m\u001b[0m\n\u001b[1;32m-> 2336\u001b[1;33m         \u001b[1;32mreturn\u001b[0m \u001b[0mself\u001b[0m\u001b[1;33m.\u001b[0m\u001b[0mrun_line_magic\u001b[0m\u001b[1;33m(\u001b[0m\u001b[0mmagic_name\u001b[0m\u001b[1;33m,\u001b[0m \u001b[0mmagic_arg_s\u001b[0m\u001b[1;33m)\u001b[0m\u001b[1;33m\u001b[0m\u001b[0m\n\u001b[0m\u001b[0;32m   2337\u001b[0m \u001b[1;33m\u001b[0m\u001b[0m\n\u001b[0;32m   2338\u001b[0m     \u001b[1;31m#-------------------------------------------------------------------------\u001b[0m\u001b[1;33m\u001b[0m\u001b[1;33m\u001b[0m\u001b[0m\n",
      "\u001b[1;32m/usr/lib/python2.7/site-packages/IPython/core/interactiveshell.pyc\u001b[0m in \u001b[0;36mrun_line_magic\u001b[1;34m(self, magic_name, line)\u001b[0m\n\u001b[0;32m   2255\u001b[0m                 \u001b[0mkwargs\u001b[0m\u001b[1;33m[\u001b[0m\u001b[1;34m'local_ns'\u001b[0m\u001b[1;33m]\u001b[0m \u001b[1;33m=\u001b[0m \u001b[0msys\u001b[0m\u001b[1;33m.\u001b[0m\u001b[0m_getframe\u001b[0m\u001b[1;33m(\u001b[0m\u001b[0mstack_depth\u001b[0m\u001b[1;33m)\u001b[0m\u001b[1;33m.\u001b[0m\u001b[0mf_locals\u001b[0m\u001b[1;33m\u001b[0m\u001b[0m\n\u001b[0;32m   2256\u001b[0m             \u001b[1;32mwith\u001b[0m \u001b[0mself\u001b[0m\u001b[1;33m.\u001b[0m\u001b[0mbuiltin_trap\u001b[0m\u001b[1;33m:\u001b[0m\u001b[1;33m\u001b[0m\u001b[0m\n\u001b[1;32m-> 2257\u001b[1;33m                 \u001b[0mresult\u001b[0m \u001b[1;33m=\u001b[0m \u001b[0mfn\u001b[0m\u001b[1;33m(\u001b[0m\u001b[1;33m*\u001b[0m\u001b[0margs\u001b[0m\u001b[1;33m,\u001b[0m\u001b[1;33m**\u001b[0m\u001b[0mkwargs\u001b[0m\u001b[1;33m)\u001b[0m\u001b[1;33m\u001b[0m\u001b[0m\n\u001b[0m\u001b[0;32m   2258\u001b[0m             \u001b[1;32mreturn\u001b[0m \u001b[0mresult\u001b[0m\u001b[1;33m\u001b[0m\u001b[0m\n\u001b[0;32m   2259\u001b[0m \u001b[1;33m\u001b[0m\u001b[0m\n",
      "\u001b[1;32m/usr/lib/python2.7/site-packages/IPython/core/magics/pylab.pyc\u001b[0m in \u001b[0;36mpylab\u001b[1;34m(self, line)\u001b[0m\n",
      "\u001b[1;32m/usr/lib/python2.7/site-packages/IPython/core/magic.pyc\u001b[0m in \u001b[0;36m<lambda>\u001b[1;34m(f, *a, **k)\u001b[0m\n\u001b[0;32m    191\u001b[0m     \u001b[1;31m# but it's overkill for just that one bit of state.\u001b[0m\u001b[1;33m\u001b[0m\u001b[1;33m\u001b[0m\u001b[0m\n\u001b[0;32m    192\u001b[0m     \u001b[1;32mdef\u001b[0m \u001b[0mmagic_deco\u001b[0m\u001b[1;33m(\u001b[0m\u001b[0marg\u001b[0m\u001b[1;33m)\u001b[0m\u001b[1;33m:\u001b[0m\u001b[1;33m\u001b[0m\u001b[0m\n\u001b[1;32m--> 193\u001b[1;33m         \u001b[0mcall\u001b[0m \u001b[1;33m=\u001b[0m \u001b[1;32mlambda\u001b[0m \u001b[0mf\u001b[0m\u001b[1;33m,\u001b[0m \u001b[1;33m*\u001b[0m\u001b[0ma\u001b[0m\u001b[1;33m,\u001b[0m \u001b[1;33m**\u001b[0m\u001b[0mk\u001b[0m\u001b[1;33m:\u001b[0m \u001b[0mf\u001b[0m\u001b[1;33m(\u001b[0m\u001b[1;33m*\u001b[0m\u001b[0ma\u001b[0m\u001b[1;33m,\u001b[0m \u001b[1;33m**\u001b[0m\u001b[0mk\u001b[0m\u001b[1;33m)\u001b[0m\u001b[1;33m\u001b[0m\u001b[0m\n\u001b[0m\u001b[0;32m    194\u001b[0m \u001b[1;33m\u001b[0m\u001b[0m\n\u001b[0;32m    195\u001b[0m         \u001b[1;32mif\u001b[0m \u001b[0mcallable\u001b[0m\u001b[1;33m(\u001b[0m\u001b[0marg\u001b[0m\u001b[1;33m)\u001b[0m\u001b[1;33m:\u001b[0m\u001b[1;33m\u001b[0m\u001b[0m\n",
      "\u001b[1;32m/usr/lib/python2.7/site-packages/IPython/core/magics/pylab.pyc\u001b[0m in \u001b[0;36mpylab\u001b[1;34m(self, line)\u001b[0m\n\u001b[0;32m    154\u001b[0m             \u001b[0mimport_all\u001b[0m \u001b[1;33m=\u001b[0m \u001b[1;32mnot\u001b[0m \u001b[0margs\u001b[0m\u001b[1;33m.\u001b[0m\u001b[0mno_import_all\u001b[0m\u001b[1;33m\u001b[0m\u001b[0m\n\u001b[0;32m    155\u001b[0m \u001b[1;33m\u001b[0m\u001b[0m\n\u001b[1;32m--> 156\u001b[1;33m         \u001b[0mgui\u001b[0m\u001b[1;33m,\u001b[0m \u001b[0mbackend\u001b[0m\u001b[1;33m,\u001b[0m \u001b[0mclobbered\u001b[0m \u001b[1;33m=\u001b[0m \u001b[0mself\u001b[0m\u001b[1;33m.\u001b[0m\u001b[0mshell\u001b[0m\u001b[1;33m.\u001b[0m\u001b[0menable_pylab\u001b[0m\u001b[1;33m(\u001b[0m\u001b[0margs\u001b[0m\u001b[1;33m.\u001b[0m\u001b[0mgui\u001b[0m\u001b[1;33m,\u001b[0m \u001b[0mimport_all\u001b[0m\u001b[1;33m=\u001b[0m\u001b[0mimport_all\u001b[0m\u001b[1;33m)\u001b[0m\u001b[1;33m\u001b[0m\u001b[0m\n\u001b[0m\u001b[0;32m    157\u001b[0m         \u001b[0mself\u001b[0m\u001b[1;33m.\u001b[0m\u001b[0m_show_matplotlib_backend\u001b[0m\u001b[1;33m(\u001b[0m\u001b[0margs\u001b[0m\u001b[1;33m.\u001b[0m\u001b[0mgui\u001b[0m\u001b[1;33m,\u001b[0m \u001b[0mbackend\u001b[0m\u001b[1;33m)\u001b[0m\u001b[1;33m\u001b[0m\u001b[0m\n\u001b[0;32m    158\u001b[0m         \u001b[1;32mprint\u001b[0m \u001b[1;33m(\u001b[0m\u001b[1;34m\"Populating the interactive namespace from numpy and matplotlib\"\u001b[0m\u001b[1;33m)\u001b[0m\u001b[1;33m\u001b[0m\u001b[0m\n",
      "\u001b[1;32m/usr/lib/python2.7/site-packages/IPython/core/interactiveshell.pyc\u001b[0m in \u001b[0;36menable_pylab\u001b[1;34m(self, gui, import_all, welcome_message)\u001b[0m\n\u001b[0;32m   3169\u001b[0m         \u001b[1;32mfrom\u001b[0m \u001b[0mIPython\u001b[0m\u001b[1;33m.\u001b[0m\u001b[0mcore\u001b[0m\u001b[1;33m.\u001b[0m\u001b[0mpylabtools\u001b[0m \u001b[1;32mimport\u001b[0m \u001b[0mimport_pylab\u001b[0m\u001b[1;33m\u001b[0m\u001b[0m\n\u001b[0;32m   3170\u001b[0m \u001b[1;33m\u001b[0m\u001b[0m\n\u001b[1;32m-> 3171\u001b[1;33m         \u001b[0mgui\u001b[0m\u001b[1;33m,\u001b[0m \u001b[0mbackend\u001b[0m \u001b[1;33m=\u001b[0m \u001b[0mself\u001b[0m\u001b[1;33m.\u001b[0m\u001b[0menable_matplotlib\u001b[0m\u001b[1;33m(\u001b[0m\u001b[0mgui\u001b[0m\u001b[1;33m)\u001b[0m\u001b[1;33m\u001b[0m\u001b[0m\n\u001b[0m\u001b[0;32m   3172\u001b[0m \u001b[1;33m\u001b[0m\u001b[0m\n\u001b[0;32m   3173\u001b[0m         \u001b[1;31m# We want to prevent the loading of pylab to pollute the user's\u001b[0m\u001b[1;33m\u001b[0m\u001b[1;33m\u001b[0m\u001b[0m\n",
      "\u001b[1;32m/usr/lib/python2.7/site-packages/IPython/core/interactiveshell.pyc\u001b[0m in \u001b[0;36menable_matplotlib\u001b[1;34m(self, gui)\u001b[0m\n\u001b[0;32m   3118\u001b[0m         \"\"\"\n\u001b[0;32m   3119\u001b[0m         \u001b[1;32mfrom\u001b[0m \u001b[0mIPython\u001b[0m\u001b[1;33m.\u001b[0m\u001b[0mcore\u001b[0m \u001b[1;32mimport\u001b[0m \u001b[0mpylabtools\u001b[0m \u001b[1;32mas\u001b[0m \u001b[0mpt\u001b[0m\u001b[1;33m\u001b[0m\u001b[0m\n\u001b[1;32m-> 3120\u001b[1;33m         \u001b[0mgui\u001b[0m\u001b[1;33m,\u001b[0m \u001b[0mbackend\u001b[0m \u001b[1;33m=\u001b[0m \u001b[0mpt\u001b[0m\u001b[1;33m.\u001b[0m\u001b[0mfind_gui_and_backend\u001b[0m\u001b[1;33m(\u001b[0m\u001b[0mgui\u001b[0m\u001b[1;33m,\u001b[0m \u001b[0mself\u001b[0m\u001b[1;33m.\u001b[0m\u001b[0mpylab_gui_select\u001b[0m\u001b[1;33m)\u001b[0m\u001b[1;33m\u001b[0m\u001b[0m\n\u001b[0m\u001b[0;32m   3121\u001b[0m \u001b[1;33m\u001b[0m\u001b[0m\n\u001b[0;32m   3122\u001b[0m         \u001b[1;32mif\u001b[0m \u001b[0mgui\u001b[0m \u001b[1;33m!=\u001b[0m \u001b[1;34m'inline'\u001b[0m\u001b[1;33m:\u001b[0m\u001b[1;33m\u001b[0m\u001b[0m\n",
      "\u001b[1;32m/usr/lib/python2.7/site-packages/IPython/core/pylabtools.pyc\u001b[0m in \u001b[0;36mfind_gui_and_backend\u001b[1;34m(gui, gui_select)\u001b[0m\n\u001b[0;32m    237\u001b[0m     \"\"\"\n\u001b[0;32m    238\u001b[0m \u001b[1;33m\u001b[0m\u001b[0m\n\u001b[1;32m--> 239\u001b[1;33m     \u001b[1;32mimport\u001b[0m \u001b[0mmatplotlib\u001b[0m\u001b[1;33m\u001b[0m\u001b[0m\n\u001b[0m\u001b[0;32m    240\u001b[0m \u001b[1;33m\u001b[0m\u001b[0m\n\u001b[0;32m    241\u001b[0m     \u001b[1;32mif\u001b[0m \u001b[0mgui\u001b[0m \u001b[1;32mand\u001b[0m \u001b[0mgui\u001b[0m \u001b[1;33m!=\u001b[0m \u001b[1;34m'auto'\u001b[0m\u001b[1;33m:\u001b[0m\u001b[1;33m\u001b[0m\u001b[0m\n",
      "\u001b[1;31mImportError\u001b[0m: No module named matplotlib"
     ]
    }
   ],
   "source": [
    "# %pylab loads numerical libraries and adds GUI loop integration.\n",
    "# Inline means displaying plots in the notebook itself.\n",
    "%pylab inline"
   ]
  },
  {
   "cell_type": "code",
   "execution_count": 10,
   "metadata": {
    "collapsed": false
   },
   "outputs": [
    {
     "data": {
      "text/plain": [
       "[123, 'asdfa', 'asfsd', 1.9, 5]"
      ]
     },
     "execution_count": 10,
     "metadata": {},
     "output_type": "execute_result"
    }
   ],
   "source": [
    "tab = [123, 'asdfa', \"asfsd\", 1.9]\n",
    "tab.append(5)\n",
    "tab"
   ]
  },
  {
   "cell_type": "code",
   "execution_count": 11,
   "metadata": {
    "collapsed": false
   },
   "outputs": [
    {
     "data": {
      "text/plain": [
       "Shape: (4L,)\n",
       "[1 2 3 4]"
      ]
     },
     "execution_count": 11,
     "metadata": {},
     "output_type": "execute_result"
    }
   ],
   "source": [
    "# Matrices and vectors are created from (nested) lists. Unfortunately there is no shortcut\n",
    "\n",
    "# now we create a vector\n",
    "v = array([1,2,3,4])\n",
    "v"
   ]
  },
  {
   "cell_type": "code",
   "execution_count": 12,
   "metadata": {
    "collapsed": false
   },
   "outputs": [
    {
     "name": "stdout",
     "output_type": "stream",
     "text": [
      "Shape: (2L, 2L)\n",
      "[[1 2]\n",
      " [3 4]] Shape: (2L, 2L, 1L)\n",
      "[[[1]\n",
      "  [2]]\n",
      "\n",
      " [[3]\n",
      "  [4]]]\n"
     ]
    }
   ],
   "source": [
    "# transform a nested array into a matrix\n",
    "M = array([[1,2],[3,4]])\n",
    "M3D = array([[[1],[2]],[[3],[4]]])\n",
    "\n",
    "print M, M3D"
   ]
  },
  {
   "cell_type": "code",
   "execution_count": 13,
   "metadata": {
    "collapsed": false
   },
   "outputs": [
    {
     "data": {
      "text/plain": [
       "list"
      ]
     },
     "execution_count": 13,
     "metadata": {},
     "output_type": "execute_result"
    }
   ],
   "source": [
    "# Beware - this will create you a vector (1D array) of lists!\n",
    "vl = array([[1,2],[3,]])\n",
    "type(vl[0])"
   ]
  },
  {
   "cell_type": "code",
   "execution_count": 14,
   "metadata": {
    "collapsed": false
   },
   "outputs": [
    {
     "data": {
      "text/plain": [
       "(numpy.ndarray, numpy.ndarray, numpy.ndarray)"
      ]
     },
     "execution_count": 14,
     "metadata": {},
     "output_type": "execute_result"
    }
   ],
   "source": [
    "# Everything in numpy is a ndarray\n",
    "type(v), type(M), type(vl)"
   ]
  },
  {
   "cell_type": "code",
   "execution_count": 15,
   "metadata": {
    "collapsed": false
   },
   "outputs": [
    {
     "name": "stdout",
     "output_type": "stream",
     "text": [
      "x.shape = (2L, 5L)\n",
      "x.size = 10\n",
      "x.dtype = int32\n",
      "x.strides = (20L, 4L)\n",
      "x.itemsize = 4\n",
      "x.nbytes = 40\n",
      "x.ndim = 2\n",
      "x.data = \u0000\u0000\u0000\u0000\u0001\u0000\u0000\u0000\u0002\u0000\u0000\u0000\u0003\u0000\u0000\u0000\u0004\u0000\u0000\u0000\u0005\u0000\u0000\u0000\u0006\u0000\u0000\u0000\u0007\u0000\u0000\u0000\b\u0000\u0000\u0000\t\u0000\u0000\u0000\n"
     ]
    }
   ],
   "source": [
    "# ndarray's properties \n",
    "x = arange(10).reshape(2,5)\n",
    "for prop in ['shape','size','dtype','strides','itemsize','nbytes','ndim', 'data']:\n",
    "    print 'x.%s = %s' % (prop, getattr(x,prop))"
   ]
  },
  {
   "cell_type": "code",
   "execution_count": 16,
   "metadata": {
    "collapsed": false
   },
   "outputs": [
    {
     "name": "stdout",
     "output_type": "stream",
     "text": [
      "Shape: (2L,)\n",
      "['lala' [3]]\n",
      "it failed :(\n"
     ]
    }
   ],
   "source": [
    "# ndarray contains elements of only one type\n",
    "\n",
    "vl[0] = 'lala' # thos works, as v1 contains objects (pointers)\n",
    "print vl\n",
    "\n",
    "try:\n",
    "    v[0] = 'lala' # thsi breaks, because v contains integers\n",
    "    print v\n",
    "except:\n",
    "    print \"it failed :(\""
   ]
  },
  {
   "cell_type": "code",
   "execution_count": 17,
   "metadata": {
    "collapsed": false
   },
   "outputs": [
    {
     "data": {
      "text/plain": [
       "Shape: (2L, 2L)\n",
       "[[ 1.+0.j  2.+0.j]\n",
       " [ 3.+0.j  4.+0.j]]"
      ]
     },
     "execution_count": 17,
     "metadata": {},
     "output_type": "execute_result"
    }
   ],
   "source": [
    "# the array constructor takes the dtype argument which forces a certain data type\n",
    "M = array([[1, 2], [3, 4]], dtype=complex)\n",
    "\n",
    "M"
   ]
  },
  {
   "cell_type": "code",
   "execution_count": 18,
   "metadata": {
    "collapsed": false
   },
   "outputs": [
    {
     "data": {
      "text/plain": [
       "Shape: (10L,)\n",
       "[ 0.  1.  2.  3.  4.  5.  6.  7.  8.  9.]"
      ]
     },
     "execution_count": 18,
     "metadata": {},
     "output_type": "execute_result"
    }
   ],
   "source": [
    "# create a range as an array\n",
    "arange(0, 10, 1, dtype='float32') # arguments: start, stop, step"
   ]
  },
  {
   "cell_type": "code",
   "execution_count": 19,
   "metadata": {
    "collapsed": false
   },
   "outputs": [
    {
     "data": {
      "text/plain": [
       "Shape: (20L,)\n",
       "[ -1.00000000e+00  -9.00000000e-01  -8.00000000e-01  -7.00000000e-01\n",
       "  -6.00000000e-01  -5.00000000e-01  -4.00000000e-01  -3.00000000e-01\n",
       "  -2.00000000e-01  -1.00000000e-01  -2.22044605e-16   1.00000000e-01\n",
       "   2.00000000e-01   3.00000000e-01   4.00000000e-01   5.00000000e-01\n",
       "   6.00000000e-01   7.00000000e-01   8.00000000e-01   9.00000000e-01]"
      ]
     },
     "execution_count": 19,
     "metadata": {},
     "output_type": "execute_result"
    }
   ],
   "source": [
    "arange(-1, 1, 0.1)"
   ]
  },
  {
   "cell_type": "code",
   "execution_count": 20,
   "metadata": {
    "collapsed": false
   },
   "outputs": [
    {
     "data": {
      "text/plain": [
       "Shape: (25L,)\n",
       "[  0.           0.41666667   0.83333333   1.25         1.66666667\n",
       "   2.08333333   2.5          2.91666667   3.33333333   3.75         4.16666667\n",
       "   4.58333333   5.           5.41666667   5.83333333   6.25         6.66666667\n",
       "   7.08333333   7.5          7.91666667   8.33333333   8.75         9.16666667\n",
       "   9.58333333  10.        ]"
      ]
     },
     "execution_count": 20,
     "metadata": {},
     "output_type": "execute_result"
    }
   ],
   "source": [
    "linspace(0, 10, 25)"
   ]
  },
  {
   "cell_type": "code",
   "execution_count": 24,
   "metadata": {
    "collapsed": false
   },
   "outputs": [
    {
     "name": "stdout",
     "output_type": "stream",
     "text": [
      "x Shape: (10L,)\n",
      "[  1.00000000e+00   2.16011948e+00   4.66611616e+00   1.00793684e+01\n",
      "   2.17726400e+01   4.70315038e+01   1.01593667e+02   2.19454460e+02\n",
      "   4.74047853e+02   1.02400000e+03]\n",
      "\n",
      "y Shape: (10L,)\n",
      "[  1.00000000e+00   2.16011948e+00   4.66611616e+00   1.00793684e+01\n",
      "   2.17726400e+01   4.70315038e+01   1.01593667e+02   2.19454460e+02\n",
      "   4.74047853e+02   1.02400000e+03]\n",
      "\n",
      "y2 [1.0, 2.1601194777846122, 4.666116158304467, 10.079368399158986, 21.772640002790034, 47.031503752819155, 101.59366732596479, 219.45445961038678, 474.04785269109283, 1024.0]\n"
     ]
    },
    {
     "data": {
      "text/plain": [
       "True"
      ]
     },
     "execution_count": 24,
     "metadata": {},
     "output_type": "execute_result"
    }
   ],
   "source": [
    "x= logspace(0, 10, 10, base=2)\n",
    "y= 2**linspace(0,10,10)\n",
    "\n",
    "y2 = []\n",
    "for i in linspace(0,10,10):\n",
    "    y2.append(2**i)\n",
    "\n",
    "print 'x', x\n",
    "print \n",
    "print 'y', y\n",
    "\n",
    "print \n",
    "print 'y2', y2\n",
    "\n",
    "\n",
    "np.all(x==y)"
   ]
  },
  {
   "cell_type": "code",
   "execution_count": 25,
   "metadata": {
    "collapsed": true
   },
   "outputs": [],
   "source": [
    "# like meshgrid in Matlab - please note that we index the mgrid object instead of \n",
    "# calling a function\n",
    "x, y = mgrid[0:5, 0:5]"
   ]
  },
  {
   "cell_type": "code",
   "execution_count": 26,
   "metadata": {
    "collapsed": false
   },
   "outputs": [
    {
     "data": {
      "text/plain": [
       "Shape: (5L, 5L)\n",
       "[[0 0 0 0 0]\n",
       " [1 1 1 1 1]\n",
       " [2 2 2 2 2]\n",
       " [3 3 3 3 3]\n",
       " [4 4 4 4 4]]"
      ]
     },
     "execution_count": 26,
     "metadata": {},
     "output_type": "execute_result"
    }
   ],
   "source": [
    "x"
   ]
  },
  {
   "cell_type": "code",
   "execution_count": 27,
   "metadata": {
    "collapsed": false
   },
   "outputs": [
    {
     "data": {
      "text/plain": [
       "Shape: (5L, 5L)\n",
       "[[0 1 2 3 4]\n",
       " [0 1 2 3 4]\n",
       " [0 1 2 3 4]\n",
       " [0 1 2 3 4]\n",
       " [0 1 2 3 4]]"
      ]
     },
     "execution_count": 27,
     "metadata": {},
     "output_type": "execute_result"
    }
   ],
   "source": [
    "y"
   ]
  },
  {
   "cell_type": "code",
   "execution_count": 28,
   "metadata": {
    "collapsed": true
   },
   "outputs": [],
   "source": [
    "x, y = ogrid[0:5, 0:5] #we again use array indexing"
   ]
  },
  {
   "cell_type": "code",
   "execution_count": 29,
   "metadata": {
    "collapsed": false
   },
   "outputs": [
    {
     "data": {
      "text/plain": [
       "Shape: (5L, 1L)\n",
       "[[0]\n",
       " [1]\n",
       " [2]\n",
       " [3]\n",
       " [4]]"
      ]
     },
     "execution_count": 29,
     "metadata": {},
     "output_type": "execute_result"
    }
   ],
   "source": [
    "x"
   ]
  },
  {
   "cell_type": "code",
   "execution_count": 30,
   "metadata": {
    "collapsed": false
   },
   "outputs": [
    {
     "data": {
      "text/plain": [
       "Shape: (1L, 5L)\n",
       "[[0 1 2 3 4]]"
      ]
     },
     "execution_count": 30,
     "metadata": {},
     "output_type": "execute_result"
    }
   ],
   "source": [
    "y"
   ]
  },
  {
   "cell_type": "code",
   "execution_count": 31,
   "metadata": {
    "collapsed": false
   },
   "outputs": [
    {
     "data": {
      "text/plain": [
       "Shape: (3L, 3L)\n",
       "[[ 0.  0.  0.]\n",
       " [ 0.  0.  0.]\n",
       " [ 0.  0.  0.]]"
      ]
     },
     "execution_count": 31,
     "metadata": {},
     "output_type": "execute_result"
    }
   ],
   "source": [
    "zeros((3,3)) #attention - the shape is a tuple"
   ]
  },
  {
   "cell_type": "code",
   "execution_count": 37,
   "metadata": {
    "collapsed": false
   },
   "outputs": [
    {
     "data": {
      "text/plain": [
       "(3,)"
      ]
     },
     "execution_count": 37,
     "metadata": {},
     "output_type": "execute_result"
    }
   ],
   "source": [
    "(3, )"
   ]
  },
  {
   "cell_type": "code",
   "execution_count": 39,
   "metadata": {
    "collapsed": false
   },
   "outputs": [
    {
     "data": {
      "text/plain": [
       "Shape: (3L,)\n",
       "[ 0.  0.  0.]"
      ]
     },
     "execution_count": 39,
     "metadata": {},
     "output_type": "execute_result"
    }
   ],
   "source": [
    "zeros((3,)) # (3,) makes a 1-element tuple"
   ]
  },
  {
   "cell_type": "code",
   "execution_count": 40,
   "metadata": {
    "collapsed": false
   },
   "outputs": [
    {
     "data": {
      "text/plain": [
       "Shape: (3L, 3L)\n",
       "[[ 1.  1.  1.]\n",
       " [ 1.  1.  1.]\n",
       " [ 1.  1.  1.]]"
      ]
     },
     "execution_count": 40,
     "metadata": {},
     "output_type": "execute_result"
    }
   ],
   "source": [
    "ones((3,3))"
   ]
  },
  {
   "cell_type": "code",
   "execution_count": 43,
   "metadata": {
    "collapsed": false
   },
   "outputs": [
    {
     "data": {
      "text/plain": [
       "Shape: (5L, 5L)\n",
       "[[ 0.76111965  0.93964285  0.41933041  0.55842945  0.62439264]\n",
       " [ 0.44874061  0.46456252  0.33545417  0.60848199  0.34596632]\n",
       " [ 0.90762389  0.44706821  0.1823977   0.11585945  0.34800039]\n",
       " [ 0.66802573  0.78759711  0.29645809  0.30924538  0.69124459]\n",
       " [ 0.16682611  0.50653003  0.74490317  0.23950492  0.1567214 ]]"
      ]
     },
     "execution_count": 43,
     "metadata": {},
     "output_type": "execute_result"
    }
   ],
   "source": [
    "random.rand(5,5) # unlike other numpy functions, rand doesn't expect the shape to be a tuple"
   ]
  },
  {
   "cell_type": "code",
   "execution_count": 44,
   "metadata": {
    "collapsed": false
   },
   "outputs": [
    {
     "name": "stdout",
     "output_type": "stream",
     "text": [
      "Shape: (4L,)\n",
      "[1 2 3 4]\n",
      "2\n",
      "4\n",
      "Shape: (1L,)\n",
      "[1]\n",
      "Shape: (2L,)\n",
      "[1 3]\n",
      "Shape: (2L,)\n",
      "[2 4]\n",
      "Shape: (4L,)\n",
      "[4 3 2 1]\n"
     ]
    }
   ],
   "source": [
    "#Indexing:\n",
    "print v\n",
    "print v[1]\n",
    "print v[-1]\n",
    "print v[:1]\n",
    "print v[::2]\n",
    "print v[1::2]\n",
    "print v[::-1]"
   ]
  },
  {
   "cell_type": "code",
   "execution_count": 45,
   "metadata": {
    "collapsed": false
   },
   "outputs": [
    {
     "name": "stdout",
     "output_type": "stream",
     "text": [
      "Shape: (2L, 2L)\n",
      "[[0 1]\n",
      " [2 3]]\n",
      "0\n",
      "3\n",
      "Shape: (1L, 1L)\n",
      "[[0]]\n",
      "Shape: (1L, 2L)\n",
      "[[0 1]]\n",
      "Shape: (2L, 1L)\n",
      "[[1]\n",
      " [3]]\n"
     ]
    }
   ],
   "source": [
    "M = arange(4).reshape(2,2)\n",
    "print M\n",
    "print M[0,0]\n",
    "print M[-1,-1]\n",
    "print M[:1,:1]\n",
    "print M[::2,:]\n",
    "print M[:,1::2]\n"
   ]
  },
  {
   "cell_type": "code",
   "execution_count": 46,
   "metadata": {
    "collapsed": false
   },
   "outputs": [
    {
     "name": "stdout",
     "output_type": "stream",
     "text": [
      "Shape: (2L,)\n",
      "[0 1]\n",
      "Shape: (2L,)\n",
      "[0 1]\n",
      "Shape: (2L,)\n",
      "[0 1]\n"
     ]
    }
   ],
   "source": [
    "print M[0]\n",
    "print M[0,:]\n",
    "print M[0, ...]"
   ]
  },
  {
   "cell_type": "code",
   "execution_count": 50,
   "metadata": {
    "collapsed": false
   },
   "outputs": [
    {
     "data": {
      "text/plain": [
       "Shape: (5L, 5L)\n",
       "[[  0.   1.   2.   3.   4.]\n",
       " [ 10.  11.  12.  13.  14.]\n",
       " [ 20.  21.  22.  23.  24.]\n",
       " [ 30.  31.  32.  33.  34.]\n",
       " [ 40.  41.  42.  43.  44.]]"
      ]
     },
     "execution_count": 50,
     "metadata": {},
     "output_type": "execute_result"
    }
   ],
   "source": [
    "A = arange(5) + (arange(5)*10.0)[:, newaxis]\n",
    "A"
   ]
  },
  {
   "cell_type": "code",
   "execution_count": 55,
   "metadata": {
    "collapsed": false
   },
   "outputs": [
    {
     "data": {
      "text/plain": [
       "Shape: (3L, 3L)\n",
       "[[  0.   2.   4.]\n",
       " [ 20.  22.  24.]\n",
       " [ 40.  42.  44.]]"
      ]
     },
     "execution_count": 55,
     "metadata": {},
     "output_type": "execute_result"
    }
   ],
   "source": [
    "A[::2, ::2]"
   ]
  },
  {
   "cell_type": "code",
   "execution_count": 56,
   "metadata": {
    "collapsed": false
   },
   "outputs": [
    {
     "data": {
      "text/plain": [
       "Shape: (3L, 5L)\n",
       "[[  0.   1.   2.   3.   4.]\n",
       " [ 20.  21.  22.  23.  24.]\n",
       " [ 10.  11.  12.  13.  14.]]"
      ]
     },
     "execution_count": 56,
     "metadata": {},
     "output_type": "execute_result"
    }
   ],
   "source": [
    "# Fancy indexing\n",
    "\n",
    "A[[0,2,1]] #By default, we take all of the unspecified dimensions"
   ]
  },
  {
   "cell_type": "code",
   "execution_count": 57,
   "metadata": {
    "collapsed": false
   },
   "outputs": [
    {
     "data": {
      "text/plain": [
       "Shape: (3L,)\n",
       "[  0.  20.  11.]"
      ]
     },
     "execution_count": 57,
     "metadata": {},
     "output_type": "execute_result"
    }
   ],
   "source": [
    "A[[0,2,1],[0,0,1]] # take the elements on the intersection"
   ]
  },
  {
   "cell_type": "code",
   "execution_count": 58,
   "metadata": {
    "collapsed": false
   },
   "outputs": [
    {
     "data": {
      "text/plain": [
       "Shape: (3L, 2L)\n",
       "[[  0.   4.]\n",
       " [ 20.  24.]\n",
       " [ 10.  14.]]"
      ]
     },
     "execution_count": 58,
     "metadata": {},
     "output_type": "execute_result"
    }
   ],
   "source": [
    "A[ix_([0,2,1],[0,-1])] # take 3 rows and 2 columns"
   ]
  },
  {
   "cell_type": "code",
   "execution_count": 59,
   "metadata": {
    "collapsed": false
   },
   "outputs": [
    {
     "data": {
      "text/plain": [
       "Shape: (5L,)\n",
       "[  0.  10.  20.  30.  40.]"
      ]
     },
     "execution_count": 59,
     "metadata": {},
     "output_type": "execute_result"
    }
   ],
   "source": [
    "A[...,0] #ellipsis (...) means to take everything over the unspecified dimensions"
   ]
  },
  {
   "cell_type": "code",
   "execution_count": 60,
   "metadata": {
    "collapsed": false
   },
   "outputs": [
    {
     "data": {
      "text/plain": [
       "Shape: (5L, 1L, 5L)\n",
       "[[[  0.   1.   2.   3.   4.]]\n",
       "\n",
       " [[ 10.  11.  12.  13.  14.]]\n",
       "\n",
       " [[ 20.  21.  22.  23.  24.]]\n",
       "\n",
       " [[ 30.  31.  32.  33.  34.]]\n",
       "\n",
       " [[ 40.  41.  42.  43.  44.]]]"
      ]
     },
     "execution_count": 60,
     "metadata": {},
     "output_type": "execute_result"
    }
   ],
   "source": [
    "A[:,newaxis,:] #newaxis adds a new unitary dimension"
   ]
  },
  {
   "cell_type": "code",
   "execution_count": 61,
   "metadata": {
    "collapsed": false
   },
   "outputs": [
    {
     "data": {
      "text/plain": [
       "Shape: (15L,)\n",
       "[  0.   2.   4.  10.  12.  14.  20.  22.  24.  30.  32.  34.  40.  42.  44.]"
      ]
     },
     "execution_count": 61,
     "metadata": {},
     "output_type": "execute_result"
    }
   ],
   "source": [
    "A[A%2==0] #logical index - takes elements for which the index is True"
   ]
  },
  {
   "cell_type": "code",
   "execution_count": null,
   "metadata": {
    "collapsed": true
   },
   "outputs": [],
   "source": [
    "where?"
   ]
  },
  {
   "cell_type": "code",
   "execution_count": 62,
   "metadata": {
    "collapsed": false
   },
   "outputs": [
    {
     "name": "stdout",
     "output_type": "stream",
     "text": [
      "(Shape: (4L,)\n",
      "[0 0 0 0], Shape: (4L,)\n",
      "[0 1 2 3])\n",
      "(Shape: (15L,)\n",
      "[0 0 0 1 1 1 2 2 2 3 3 3 4 4 4], Shape: (15L,)\n",
      "[0 2 4 0 2 4 0 2 4 0 2 4 0 2 4])\n"
     ]
    }
   ],
   "source": [
    "# where and nonzero return indices of nonzero elements. Here we get 2 lists:\n",
    "# rows and columns of elements less than 4\n",
    "print where(A<4) \n",
    "print nonzero(A%2==0)"
   ]
  },
  {
   "cell_type": "code",
   "execution_count": 63,
   "metadata": {
    "collapsed": false
   },
   "outputs": [
    {
     "name": "stdout",
     "output_type": "stream",
     "text": [
      "Shape: (5L, 2L)\n",
      "[[  0.   1.]\n",
      " [ 10.  11.]\n",
      " [ 20.  21.]\n",
      " [ 30.  31.]\n",
      " [ 40.  41.]]\n",
      "Shape: (5L, 2L)\n",
      "[[  0.   1.]\n",
      " [ 10.  11.]\n",
      " [ 20.  21.]\n",
      " [ 30.  31.]\n",
      " [ 40.  41.]]\n"
     ]
    }
   ],
   "source": [
    "# take is akin to fancy indexing, but is a lot faster\n",
    "print take(A, [0,1], axis=1)\n",
    "print A[:,[0,1]]"
   ]
  },
  {
   "cell_type": "code",
   "execution_count": 64,
   "metadata": {
    "collapsed": false
   },
   "outputs": [
    {
     "name": "stdout",
     "output_type": "stream",
     "text": [
      "The slowest run took 19.92 times longer than the fastest. This could mean that an intermediate result is being cached \n",
      "100000 loops, best of 3: 2.45 µs per loop\n"
     ]
    }
   ],
   "source": [
    "%timeit take(A, [0,1], axis=1)"
   ]
  },
  {
   "cell_type": "code",
   "execution_count": 65,
   "metadata": {
    "collapsed": false
   },
   "outputs": [
    {
     "name": "stdout",
     "output_type": "stream",
     "text": [
      "The slowest run took 16.49 times longer than the fastest. This could mean that an intermediate result is being cached \n",
      "100000 loops, best of 3: 5.45 µs per loop\n"
     ]
    }
   ],
   "source": [
    "%timeit A[:,[0,1]]"
   ]
  },
  {
   "cell_type": "code",
   "execution_count": 66,
   "metadata": {
    "collapsed": false
   },
   "outputs": [
    {
     "name": "stdout",
     "output_type": "stream",
     "text": [
      "Shape: (2L, 3L)\n",
      "[[1 1 1]\n",
      " [0 0 2]]\n",
      "Shape: (2L, 3L)\n",
      "[[ 10.  10.  10.]\n",
      " [  0.   0.  20.]]\n"
     ]
    }
   ],
   "source": [
    "# choose takes an element from many matrices\n",
    "A0 = zeros((2,3))\n",
    "A1 = zeros((2,3))+10\n",
    "A2 = zeros((2,3))+20\n",
    "\n",
    "choice = randint(0,3,(2,3))\n",
    "print choice \n",
    "print choose(choice,[A0,A1,A2])"
   ]
  },
  {
   "cell_type": "markdown",
   "metadata": {},
   "source": [
    "## The anatomy od a ndarray\n",
    "\n",
    "ndarray is a multidimensional table (matrix or tensor) that holds elements of a single type. It is composed of:\n",
    "\n",
    "- data: a memory block\n",
    "- information about elements it holds: `dtype` (data type)\n",
    "- shape information: shape and strides (offset in bytes along each axis)\n"
   ]
  },
  {
   "cell_type": "code",
   "execution_count": 67,
   "metadata": {
    "collapsed": false
   },
   "outputs": [
    {
     "data": {
      "text/plain": [
       "Shape: (3L, 4L)\n",
       "[[ 0  1  2  3]\n",
       " [ 4  5  6  7]\n",
       " [ 8  9 10 11]]"
      ]
     },
     "execution_count": 67,
     "metadata": {},
     "output_type": "execute_result"
    }
   ],
   "source": [
    "A = np.arange(12).reshape(3,4)\n",
    "A"
   ]
  },
  {
   "cell_type": "code",
   "execution_count": 68,
   "metadata": {
    "collapsed": false
   },
   "outputs": [
    {
     "data": {
      "text/plain": [
       "(dtype('int32'), 4)"
      ]
     },
     "execution_count": 68,
     "metadata": {},
     "output_type": "execute_result"
    }
   ],
   "source": [
    "A.dtype, A.itemsize"
   ]
  },
  {
   "cell_type": "code",
   "execution_count": 69,
   "metadata": {
    "collapsed": false
   },
   "outputs": [
    {
     "data": {
      "text/plain": [
       "(2, (3L, 4L), (16L, 4L))"
      ]
     },
     "execution_count": 69,
     "metadata": {},
     "output_type": "execute_result"
    }
   ],
   "source": [
    "A.ndim, A.shape, A.strides"
   ]
  },
  {
   "cell_type": "markdown",
   "metadata": {},
   "source": [
    "There are two conventions of laying out data in memory:\n",
    "\n",
    "- Fortran (col-major): elements are put into collumns (when iterating, the index on the left changes fastest)\n",
    "- C (row-major): elemets are put into rows, the right-most index changest fastest\n"
   ]
  },
  {
   "cell_type": "code",
   "execution_count": 70,
   "metadata": {
    "collapsed": false
   },
   "outputs": [
    {
     "data": {
      "text/plain": [
       "(16L, 4L)"
      ]
     },
     "execution_count": 70,
     "metadata": {},
     "output_type": "execute_result"
    }
   ],
   "source": [
    "A.strides"
   ]
  },
  {
   "cell_type": "code",
   "execution_count": 71,
   "metadata": {
    "collapsed": false
   },
   "outputs": [
    {
     "data": {
      "text/plain": [
       "  C_CONTIGUOUS : True\n",
       "  F_CONTIGUOUS : False\n",
       "  OWNDATA : False\n",
       "  WRITEABLE : True\n",
       "  ALIGNED : True\n",
       "  UPDATEIFCOPY : False"
      ]
     },
     "execution_count": 71,
     "metadata": {},
     "output_type": "execute_result"
    }
   ],
   "source": [
    "A.flags"
   ]
  },
  {
   "cell_type": "code",
   "execution_count": 75,
   "metadata": {
    "collapsed": false
   },
   "outputs": [
    {
     "data": {
      "text/plain": [
       "((4L, 3L), (4L, 16L))"
      ]
     },
     "execution_count": 75,
     "metadata": {},
     "output_type": "execute_result"
    }
   ],
   "source": [
    "# transpose makes the matrix col-major:\n",
    "AT = A.T\n",
    "AT.shape, AT.strides"
   ]
  },
  {
   "cell_type": "code",
   "execution_count": 76,
   "metadata": {
    "collapsed": false
   },
   "outputs": [
    {
     "data": {
      "text/plain": [
       "  C_CONTIGUOUS : False\n",
       "  F_CONTIGUOUS : True\n",
       "  OWNDATA : False\n",
       "  WRITEABLE : True\n",
       "  ALIGNED : True\n",
       "  UPDATEIFCOPY : False"
      ]
     },
     "execution_count": 76,
     "metadata": {},
     "output_type": "execute_result"
    }
   ],
   "source": [
    "AT.flags"
   ]
  },
  {
   "cell_type": "code",
   "execution_count": 77,
   "metadata": {
    "collapsed": false
   },
   "outputs": [
    {
     "data": {
      "text/plain": [
       "Shape: (3L, 4L)\n",
       "[[ 0  1  2  3]\n",
       " [ 4  5  6  7]\n",
       " [ 8  9 10 11]]"
      ]
     },
     "execution_count": 77,
     "metadata": {},
     "output_type": "execute_result"
    }
   ],
   "source": [
    "A"
   ]
  },
  {
   "cell_type": "code",
   "execution_count": 78,
   "metadata": {
    "collapsed": false
   },
   "outputs": [
    {
     "name": "stdout",
     "output_type": "stream",
     "text": [
      "Shape: (2L, 2L)\n",
      "[[ 0  2]\n",
      " [ 8 10]]\n",
      "(2L, 2L) (32L, 8L)\n"
     ]
    }
   ],
   "source": [
    "# this returns a view with different strides\n",
    "AS = A[::2,::2]\n",
    "print AS\n",
    "print AS.shape, AS.strides"
   ]
  },
  {
   "cell_type": "code",
   "execution_count": 79,
   "metadata": {
    "collapsed": false
   },
   "outputs": [
    {
     "name": "stdout",
     "output_type": "stream",
     "text": [
      "Shape: (2L, 2L)\n",
      "[[ 0  8]\n",
      " [ 2 10]]\n",
      "(2L, 2L) (8L, 32L)\n"
     ]
    }
   ],
   "source": [
    "# it also works for transpositions\n",
    "ATS = A.T[::2,::2]\n",
    "print ATS\n",
    "print ATS.shape, ATS.strides"
   ]
  },
  {
   "cell_type": "code",
   "execution_count": 80,
   "metadata": {
    "collapsed": false
   },
   "outputs": [
    {
     "name": "stdout",
     "output_type": "stream",
     "text": [
      "Shape: (3L, 4L)\n",
      "[[ 0  1  2  3]\n",
      " [ 4  5  6  7]\n",
      " [ 8  9 10 11]]\n",
      "Shape: (4L, 3L)\n",
      "[[ 0  4  8]\n",
      " [ 1  5  9]\n",
      " [ 2  6 10]\n",
      " [ 3  7 11]]\n",
      "Shape: (2L, 2L)\n",
      "[[ 0  2]\n",
      " [ 8 10]]\n",
      "Shape: (2L, 2L)\n",
      "[[ 0  8]\n",
      " [ 2 10]]\n"
     ]
    }
   ],
   "source": [
    "# Numpy returns views whenever it can - all matrices below share storage!\n",
    "print A\n",
    "print AT\n",
    "print AS\n",
    "print ATS"
   ]
  },
  {
   "cell_type": "code",
   "execution_count": 81,
   "metadata": {
    "collapsed": false
   },
   "outputs": [
    {
     "name": "stdout",
     "output_type": "stream",
     "text": [
      "Shape: (3L, 4L)\n",
      "[[100   1   2   3]\n",
      " [  4   5   6   7]\n",
      " [  8   9  10  11]]\n",
      "Shape: (4L, 3L)\n",
      "[[100   4   8]\n",
      " [  1   5   9]\n",
      " [  2   6  10]\n",
      " [  3   7  11]]\n",
      "Shape: (2L, 2L)\n",
      "[[100   2]\n",
      " [  8  10]]\n",
      "Shape: (2L, 2L)\n",
      "[[100   8]\n",
      " [  2  10]]\n"
     ]
    }
   ],
   "source": [
    "#Attention - this will change all matrices!\n",
    "A[0,0]=100\n",
    "print A\n",
    "print AT\n",
    "print AS\n",
    "print ATS"
   ]
  },
  {
   "cell_type": "code",
   "execution_count": 82,
   "metadata": {
    "collapsed": false
   },
   "outputs": [
    {
     "name": "stdout",
     "output_type": "stream",
     "text": [
      "Shape: (3L, 4L)\n",
      "[[100   1   2   3]\n",
      " [  4   5   6   7]\n",
      " [  8   9  10  11]] Shape: (2L, 2L)\n",
      "[[1000    6]\n",
      " [   9   10]]\n"
     ]
    }
   ],
   "source": [
    "#Fancy indexing makes copies!\n",
    "A2 = A[ix_([1,2],[1,2])]\n",
    "A2[0,0]=1000\n",
    "print A, A2"
   ]
  },
  {
   "cell_type": "code",
   "execution_count": null,
   "metadata": {
    "collapsed": false
   },
   "outputs": [],
   "source": [
    "# Quick question! We have a vector:\n",
    "V = arange(12)\n",
    "# We want to build a matrix:\n",
    "# [[V[0], V[1], V[2]], [V[1], V[2], V[3]], ..., [V[9], V[10], V[11]]\n",
    "\n",
    "VV = numpy.lib.stride_tricks.as_strided(V, shape=(10,3), strides=array((1,1))*V.itemsize)\n",
    "VV"
   ]
  },
  {
   "cell_type": "code",
   "execution_count": null,
   "metadata": {
    "collapsed": false
   },
   "outputs": [],
   "source": [
    "#Warning: as_strided makes no sanity-checks:\n",
    "numpy.lib.stride_tricks.as_strided(V, shape=(12,3), strides=array((1,1))*V.itemsize)"
   ]
  },
  {
   "cell_type": "code",
   "execution_count": null,
   "metadata": {
    "collapsed": false
   },
   "outputs": [],
   "source": [
    "#Attention, elements of VV may overlap!\n",
    "VV[2,2]=1000\n",
    "\n",
    "print VV\n",
    "print V"
   ]
  },
  {
   "cell_type": "code",
   "execution_count": null,
   "metadata": {
    "collapsed": false
   },
   "outputs": [],
   "source": [
    "#Strides allows all sorts of virtual data replication:\n",
    "numpy.lib.stride_tricks.as_strided(V, shape=(12,3), strides=array((1,0))*V.itemsize)"
   ]
  },
  {
   "cell_type": "markdown",
   "metadata": {},
   "source": [
    "#Broadcasting\n",
    "\n",
    "Numpy can operate on matrices of different shapes, as long as they are compatible. The algorithm is as follows:\n",
    "\n",
    "1. If the operands have a different number of dimensions, pad the shape with 1 *from the left*\n",
    "2. Match the shapes from the right. There is a match if:\n",
    "    - the shapes are identical\n",
    "    - one of the shapes is 1 on None (then the array will be replicated along that dimension)\n",
    "\n",
    "    NB: this is implemented by adding a dimension with stride 0!"
   ]
  },
  {
   "cell_type": "code",
   "execution_count": 83,
   "metadata": {
    "collapsed": false
   },
   "outputs": [
    {
     "data": {
      "text/plain": [
       "Shape: (5L, 5L)\n",
       "[[ 0  0  0  0  0]\n",
       " [ 0  1  2  3  4]\n",
       " [ 0  2  4  6  8]\n",
       " [ 0  3  6  9 12]\n",
       " [ 0  4  8 12 16]]"
      ]
     },
     "execution_count": 83,
     "metadata": {},
     "output_type": "execute_result"
    }
   ],
   "source": [
    "arange(5)[:,None] * arange(5) #[None,:] #Optional, the shape will padded with ones"
   ]
  },
  {
   "cell_type": "code",
   "execution_count": 84,
   "metadata": {
    "collapsed": false
   },
   "outputs": [
    {
     "data": {
      "text/plain": [
       "[100, 1, 2, 3, 4, 5, 6, 7, 8, 9, 10, 11]"
      ]
     },
     "execution_count": 84,
     "metadata": {},
     "output_type": "execute_result"
    }
   ],
   "source": [
    "# interator over the array in flattened C-order\n",
    "list(A.flat)"
   ]
  },
  {
   "cell_type": "markdown",
   "metadata": {},
   "source": [
    "References:\n",
    "\n",
    "- https://github.com/jrjohansson/scientific-python-lectures\n",
    "- Travis Oliphant, \"A guide to numpy\" http://csc.ucdavis.edu/~chaos/courses/nlp/Software/NumPyBook.pdf\n",
    "- scipy lecture notes https://github.com/scipy-lectures/scipy-lecture-notes\n"
   ]
  }
 ],
 "metadata": {
  "kernelspec": {
   "display_name": "Python 2",
   "language": "python2",
   "name": "python2"
  },
  "language_info": {
   "codemirror_mode": {
    "name": "ipython",
    "version": 2
   },
   "file_extension": ".py",
   "mimetype": "text/x-python",
   "name": "python",
   "nbconvert_exporter": "python",
   "pygments_lexer": "ipython2",
   "version": "2.7.10"
  }
 },
 "nbformat": 4,
 "nbformat_minor": 0
}
