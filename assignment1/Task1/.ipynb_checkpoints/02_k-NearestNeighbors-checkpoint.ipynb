{
 "cells": [
  {
   "cell_type": "code",
   "execution_count": 18,
   "metadata": {
    "collapsed": false
   },
   "outputs": [
    {
     "name": "stdout",
     "output_type": "stream",
     "text": [
      "Populating the interactive namespace from numpy and matplotlib\n"
     ]
    }
   ],
   "source": [
    "%pylab inline"
   ]
  },
  {
   "cell_type": "code",
   "execution_count": 55,
   "metadata": {
    "collapsed": false
   },
   "outputs": [],
   "source": [
    "from sklearn import datasets\n",
    "import scipy"
   ]
  },
  {
   "cell_type": "code",
   "execution_count": 4,
   "metadata": {
    "collapsed": false
   },
   "outputs": [],
   "source": [
    "iris = datasets.load_iris()"
   ]
  },
  {
   "cell_type": "code",
   "execution_count": 50,
   "metadata": {
    "collapsed": false
   },
   "outputs": [],
   "source": [
    "def knn(mask, point, k):\n",
    "    diff = iris.data[mask] - point\n",
    "\n",
    "    diff_squared = (diff**2)\n",
    "    distances = dot(diff_squared, ones((len(iris.feature_names),1)))\n",
    "\n",
    "    tops = numpy.argsort(distances[:,0])\n",
    "\n",
    "    return scipy.stats.mode(iris.target[mask][tops[:k]]).mode"
   ]
  },
  {
   "cell_type": "code",
   "execution_count": 57,
   "metadata": {
    "collapsed": true
   },
   "outputs": [],
   "source": [
    "def knn_run(k):\n",
    "    error_count = 0\n",
    "    all_numbers = range(0, len(iris.target))\n",
    "    learning_mask = random.choice(all_numbers, int(2 * len(iris.target) / 3), replace=False)\n",
    "    testing_mask = set(all_numbers).difference(set(learning_mask))\n",
    "    for x in testing_mask:\n",
    "        predicted_list = knn(learning_mask, iris.data[x], k)\n",
    "        predicted = random.choice(predicted_list)\n",
    "        if predicted != iris.target[x]:\n",
    "            error_count += 1\n",
    "    return error_count    "
   ]
  },
  {
   "cell_type": "code",
   "execution_count": 58,
   "metadata": {
    "collapsed": false
   },
   "outputs": [],
   "source": [
    "data = []\n",
    "xs = range(1,20,2)\n",
    "for k in xs:\n",
    "    test_count = 500\n",
    "    errors = []\n",
    "    for i in range(test_count):\n",
    "        error_count = knn_run(k)\n",
    "        errors.append(error_count * 100 / len(testing_mask))\n",
    "    data.append(average(errors))\n"
   ]
  },
  {
   "cell_type": "code",
   "execution_count": 76,
   "metadata": {
    "collapsed": false
   },
   "outputs": [
    {
     "data": {
      "text/plain": [
       "<matplotlib.text.Text at 0x7f14580499e8>"
      ]
     },
     "execution_count": 76,
     "metadata": {},
     "output_type": "execute_result"
    },
    {
     "data": {
      "image/png": "[encoded data removed]",
      "text/plain": [
       "<matplotlib.figure.Figure at 0x7f145804fba8>"
      ]
     },
     "metadata": {},
     "output_type": "display_data"
    }
   ],
   "source": [
    "title(\"Iris classification using k-NN\")\n",
    "plot(asarray(xs), asarray(data), \"x-\")\n",
    "ylabel(\"Average classification error [%]\")\n",
    "xlabel(\"k\")\n"
   ]
  },
  {
   "cell_type": "code",
   "execution_count": null,
   "metadata": {
    "collapsed": true
   },
   "outputs": [],
   "source": []
  }
 ],
 "metadata": {
  "kernelspec": {
   "display_name": "Python 3",
   "language": "python",
   "name": "python3"
  },
  "language_info": {
   "codemirror_mode": {
    "name": "ipython",
    "version": 3
   },
   "file_extension": ".py",
   "mimetype": "text/x-python",
   "name": "python",
   "nbconvert_exporter": "python",
   "pygments_lexer": "ipython3",
   "version": "3.5.0"
  }
 },
 "nbformat": 4,
 "nbformat_minor": 0
}
