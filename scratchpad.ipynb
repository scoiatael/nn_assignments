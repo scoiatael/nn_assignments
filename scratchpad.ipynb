{
 "cells": [
  {
   "cell_type": "code",
   "execution_count": 2,
   "metadata": {
    "collapsed": false
   },
   "outputs": [
    {
     "name": "stdout",
     "output_type": "stream",
     "text": [
      "Populating the interactive namespace from numpy and matplotlib\n"
     ]
    },
    {
     "name": "stderr",
     "output_type": "stream",
     "text": [
      "Vendor:  Continuum Analytics, Inc.\n",
      "Package: mkl\n",
      "Message: trial mode expires in 30 days\n",
      "Vendor:  Continuum Analytics, Inc.\n",
      "Package: mkl\n",
      "Message: trial mode expires in 30 days\n"
     ]
    }
   ],
   "source": [
    "%pylab inline"
   ]
  },
  {
   "cell_type": "code",
   "execution_count": 52,
   "metadata": {
    "collapsed": false
   },
   "outputs": [],
   "source": [
    "X = linspace(0., 5., 6)\n",
    "Theta = array([1,2, 0,0, 0])"
   ]
  },
  {
   "cell_type": "code",
   "execution_count": 55,
   "metadata": {
    "collapsed": false
   },
   "outputs": [
    {
     "data": {
      "text/plain": [
       "(array([[   1.,    0.,    0.,    0.,    0.],\n",
       "        [   1.,    1.,    1.,    1.,    1.],\n",
       "        [   1.,    2.,    4.,    8.,   16.],\n",
       "        [   1.,    3.,    9.,   27.,   81.],\n",
       "        [   1.,    4.,   16.,   64.,  256.],\n",
       "        [   1.,    5.,   25.,  125.,  625.]]), (6, 5))"
      ]
     },
     "execution_count": 55,
     "metadata": {},
     "output_type": "execute_result"
    }
   ],
   "source": [
    "powers = array(range(Theta.size)).reshape(-1,1)\n",
    "X_powers = (X**powers).T\n",
    "X_powers, X_powers.shape"
   ]
  },
  {
   "cell_type": "code",
   "execution_count": 49,
   "metadata": {
    "collapsed": false
   },
   "outputs": [
    {
     "ename": "ValueError",
     "evalue": "shapes (3,10) and (5,) not aligned: 10 (dim 1) != 5 (dim 0)",
     "output_type": "error",
     "traceback": [
      "\u001b[1;31m---------------------------------------------------------------------------\u001b[0m",
      "\u001b[1;31mValueError\u001b[0m                                Traceback (most recent call last)",
      "\u001b[1;32m<ipython-input-49-51b77ef6c4a8>\u001b[0m in \u001b[0;36m<module>\u001b[1;34m()\u001b[0m\n\u001b[1;32m----> 1\u001b[1;33m \u001b[0mY\u001b[0m \u001b[1;33m=\u001b[0m \u001b[0mX_powers\u001b[0m\u001b[1;33m.\u001b[0m\u001b[0mdot\u001b[0m\u001b[1;33m(\u001b[0m\u001b[0mTheta\u001b[0m\u001b[1;33m)\u001b[0m\u001b[1;33m\u001b[0m\u001b[0m\n\u001b[0m",
      "\u001b[1;31mValueError\u001b[0m: shapes (3,10) and (5,) not aligned: 10 (dim 1) != 5 (dim 0)"
     ]
    }
   ],
   "source": [
    "Y = X_powers.dot(Theta)"
   ]
  },
  {
   "cell_type": "code",
   "execution_count": 44,
   "metadata": {
    "collapsed": false
   },
   "outputs": [
    {
     "data": {
      "text/plain": [
       "(array([[ 0.,  1.,  2.],\n",
       "        [ 3.,  4.,  5.]]),\n",
       " array([[   1.,    1.,    0.,    3.,    0.,    9.,    0.,   27.],\n",
       "        [   1.,    1.,    1.,    4.,    1.,   16.,    1.,   64.],\n",
       "        [   1.,    1.,    2.,    5.,    4.,   25.,    8.,  125.]]),\n",
       " array([  1. ,   3.5,   6. ,   8.5,  11. ]))"
      ]
     },
     "execution_count": 44,
     "metadata": {},
     "output_type": "execute_result"
    }
   ],
   "source": [
    "X, X_powers, Y"
   ]
  },
  {
   "cell_type": "code",
   "execution_count": 40,
   "metadata": {
    "collapsed": false
   },
   "outputs": [
    {
     "data": {
      "text/plain": [
       "[0, 1, 2]"
      ]
     },
     "execution_count": 40,
     "metadata": {},
     "output_type": "execute_result"
    }
   ],
   "source": [
    "range(3)"
   ]
  },
  {
   "cell_type": "code",
   "execution_count": 61,
   "metadata": {
    "collapsed": false
   },
   "outputs": [
    {
     "data": {
      "text/plain": [
       "array([  1.00000000e-04,   3.16227766e-04,   1.00000000e-03,\n",
       "         3.16227766e-03,   1.00000000e-02,   3.16227766e-02,\n",
       "         1.00000000e-01,   3.16227766e-01,   1.00000000e+00,\n",
       "         3.16227766e+00,   1.00000000e+01,   3.16227766e+01,\n",
       "         1.00000000e+02,   3.16227766e+02,   1.00000000e+03,\n",
       "         3.16227766e+03,   1.00000000e+04,   3.16227766e+04,\n",
       "         1.00000000e+05,   3.16227766e+05,   1.00000000e+06])"
      ]
     },
     "execution_count": 61,
     "metadata": {},
     "output_type": "execute_result"
    }
   ],
   "source": [
    "10**arange(-4., 6.5, .5)"
   ]
  },
  {
   "cell_type": "code",
   "execution_count": 93,
   "metadata": {
    "collapsed": false
   },
   "outputs": [
    {
     "data": {
      "text/plain": [
       "(array([0, 6, 9, 1, 1]), array([2, 3, 4, 5, 7, 8]))"
      ]
     },
     "execution_count": 93,
     "metadata": {},
     "output_type": "execute_result"
    }
   ],
   "source": [
    "r = floor(rand(samples) * size).astype(int)\n",
    "nums = arange(0. ,10.)\n",
    "size = nums.size\n",
    "samples = size/2\n",
    "r, setdiff1d(arange(0., size).astype(int), r)"
   ]
  }
 ],
 "metadata": {
  "kernelspec": {
   "display_name": "Python 2",
   "language": "python",
   "name": "python2"
  },
  "language_info": {
   "codemirror_mode": {
    "name": "ipython",
    "version": 2
   },
   "file_extension": ".py",
   "mimetype": "text/x-python",
   "name": "python",
   "nbconvert_exporter": "python",
   "pygments_lexer": "ipython2",
   "version": "2.7.10"
  }
 },
 "nbformat": 4,
 "nbformat_minor": 0
}
