{
 "cells": [
  {
   "cell_type": "code",
   "execution_count": 1,
   "metadata": {
    "collapsed": false
   },
   "outputs": [
    {
     "name": "stdout",
     "output_type": "stream",
     "text": [
      "Populating the interactive namespace from numpy and matplotlib\n"
     ]
    },
    {
     "name": "stderr",
     "output_type": "stream",
     "text": [
      "Vendor:  Continuum Analytics, Inc.\n",
      "Package: mkl\n",
      "Message: trial mode expires in 7 days\n",
      "Vendor:  Continuum Analytics, Inc.\n",
      "Package: mkl\n",
      "Message: trial mode expires in 7 days\n"
     ]
    }
   ],
   "source": [
    "%pylab inline"
   ]
  },
  {
   "cell_type": "code",
   "execution_count": 2,
   "metadata": {
    "collapsed": true
   },
   "outputs": [],
   "source": [
    "import os\n",
    "import sys"
   ]
  },
  {
   "cell_type": "code",
   "execution_count": 3,
   "metadata": {
    "collapsed": false
   },
   "outputs": [],
   "source": [
    "import theano\n",
    "import theano.tensor as TT\n",
    "import theano.printing as TP"
   ]
  },
  {
   "cell_type": "code",
   "execution_count": 4,
   "metadata": {
    "collapsed": true
   },
   "outputs": [],
   "source": [
    "#shortcut for graph printing\n",
    "from IPython.display import SVG\n",
    "def svgdotprint(g):\n",
    "    return SVG(theano.printing.pydotprint(g, return_image=True, format='svg'))"
   ]
  },
  {
   "cell_type": "code",
   "execution_count": 5,
   "metadata": {
    "collapsed": true
   },
   "outputs": [],
   "source": [
    "#Scalar operations\n",
    "#\n",
    "# Here we create \"Theano Variables\" - nodes in a computation graph\n",
    "#\n",
    "x = TT.scalar('X')\n",
    "y = TT.scalar('y')\n",
    "z = x * y"
   ]
  },
  {
   "cell_type": "code",
   "execution_count": 6,
   "metadata": {
    "collapsed": false
   },
   "outputs": [
    {
     "ename": "RuntimeError",
     "evalue": "Failed to import pydot. You must install pydot for `pydotprint` to work.",
     "output_type": "error",
     "traceback": [
      "\u001b[1;31m---------------------------------------------------------------------------\u001b[0m",
      "\u001b[1;31mRuntimeError\u001b[0m                              Traceback (most recent call last)",
      "\u001b[1;32m<ipython-input-6-3db415f889ab>\u001b[0m in \u001b[0;36m<module>\u001b[1;34m()\u001b[0m\n\u001b[0;32m      2\u001b[0m \u001b[1;31m# We haven't computed anything yet. z is just a node in the graph\u001b[0m\u001b[1;33m\u001b[0m\u001b[1;33m\u001b[0m\u001b[0m\n\u001b[0;32m      3\u001b[0m \u001b[1;31m#\u001b[0m\u001b[1;33m\u001b[0m\u001b[1;33m\u001b[0m\u001b[0m\n\u001b[1;32m----> 4\u001b[1;33m \u001b[0msvgdotprint\u001b[0m\u001b[1;33m(\u001b[0m\u001b[0mz\u001b[0m\u001b[1;33m)\u001b[0m\u001b[1;33m\u001b[0m\u001b[0m\n\u001b[0m",
      "\u001b[1;32m<ipython-input-4-70e8e8e9169b>\u001b[0m in \u001b[0;36msvgdotprint\u001b[1;34m(g)\u001b[0m\n\u001b[0;32m      2\u001b[0m \u001b[1;32mfrom\u001b[0m \u001b[0mIPython\u001b[0m\u001b[1;33m.\u001b[0m\u001b[0mdisplay\u001b[0m \u001b[1;32mimport\u001b[0m \u001b[0mSVG\u001b[0m\u001b[1;33m\u001b[0m\u001b[0m\n\u001b[0;32m      3\u001b[0m \u001b[1;32mdef\u001b[0m \u001b[0msvgdotprint\u001b[0m\u001b[1;33m(\u001b[0m\u001b[0mg\u001b[0m\u001b[1;33m)\u001b[0m\u001b[1;33m:\u001b[0m\u001b[1;33m\u001b[0m\u001b[0m\n\u001b[1;32m----> 4\u001b[1;33m     \u001b[1;32mreturn\u001b[0m \u001b[0mSVG\u001b[0m\u001b[1;33m(\u001b[0m\u001b[0mtheano\u001b[0m\u001b[1;33m.\u001b[0m\u001b[0mprinting\u001b[0m\u001b[1;33m.\u001b[0m\u001b[0mpydotprint\u001b[0m\u001b[1;33m(\u001b[0m\u001b[0mg\u001b[0m\u001b[1;33m,\u001b[0m \u001b[0mreturn_image\u001b[0m\u001b[1;33m=\u001b[0m\u001b[0mTrue\u001b[0m\u001b[1;33m,\u001b[0m \u001b[0mformat\u001b[0m\u001b[1;33m=\u001b[0m\u001b[1;34m'svg'\u001b[0m\u001b[1;33m)\u001b[0m\u001b[1;33m)\u001b[0m\u001b[1;33m\u001b[0m\u001b[0m\n\u001b[0m",
      "\u001b[1;32m/pio/os/anaconda/lib/python2.7/site-packages/theano/printing.py\u001b[0m in \u001b[0;36mpydotprint\u001b[1;34m(fct, outfile, compact, format, with_ids, high_contrast, cond_highlight, colorCodes, max_label_size, scan_graphs, var_with_name_simple, print_output_file, assert_nb_all_strings, return_image)\u001b[0m\n\u001b[0;32m    663\u001b[0m         \u001b[0mtopo\u001b[0m \u001b[1;33m=\u001b[0m \u001b[0mfct\u001b[0m\u001b[1;33m.\u001b[0m\u001b[0mtoposort\u001b[0m\u001b[1;33m(\u001b[0m\u001b[1;33m)\u001b[0m\u001b[1;33m\u001b[0m\u001b[0m\n\u001b[0;32m    664\u001b[0m     \u001b[1;32mif\u001b[0m \u001b[1;32mnot\u001b[0m \u001b[0mpydot_imported\u001b[0m\u001b[1;33m:\u001b[0m\u001b[1;33m\u001b[0m\u001b[0m\n\u001b[1;32m--> 665\u001b[1;33m         raise RuntimeError(\"Failed to import pydot. You must install pydot\"\n\u001b[0m\u001b[0;32m    666\u001b[0m                            \" for `pydotprint` to work.\")\n\u001b[0;32m    667\u001b[0m         \u001b[1;32mreturn\u001b[0m\u001b[1;33m\u001b[0m\u001b[0m\n",
      "\u001b[1;31mRuntimeError\u001b[0m: Failed to import pydot. You must install pydot for `pydotprint` to work."
     ]
    }
   ],
   "source": [
    "#\n",
    "# We haven't computed anything yet. z is just a node in the graph\n",
    "#\n",
    "svgdotprint(z)"
   ]
  },
  {
   "cell_type": "code",
   "execution_count": 12,
   "metadata": {
    "collapsed": false
   },
   "outputs": [
    {
     "data": {
      "image/svg+xml": [
       "<svg height=\"382pt\" viewBox=\"0.00 0.00 619.00 382.00\" width=\"619pt\" xmlns=\"http://www.w3.org/2000/svg\" xmlns:xlink=\"http://www.w3.org/1999/xlink\">\n",
       "<g class=\"graph\" id=\"graph0\" transform=\"scale(1 1) rotate(0) translate(4 378)\">\n",
       "<title>G</title>\n",
       "<polygon fill=\"white\" points=\"-4,4 -4,-378 615,-378 615,4 -4,4\" stroke=\"white\"/>\n",
       "<!-- 328261192 -->\n",
       "<g class=\"node\" id=\"node1\"><title>328261192</title>\n",
       "<ellipse cx=\"257\" cy=\"-268\" fill=\"#ffaabb\" rx=\"113.61\" ry=\"18\" stroke=\"black\"/>\n",
       "<text font-family=\"Times New Roman,serif\" font-size=\"14.00\" text-anchor=\"middle\" x=\"257\" y=\"-264.3\">Elemwise{mul,no_inplace}</text>\n",
       "</g>\n",
       "<!-- 328261416 -->\n",
       "<g class=\"node\" id=\"node4\"><title>328261416</title>\n",
       "<ellipse cx=\"265\" cy=\"-180\" fill=\"#ffaabb\" rx=\"124.184\" ry=\"18\" stroke=\"black\"/>\n",
       "<text font-family=\"Times New Roman,serif\" font-size=\"14.00\" text-anchor=\"middle\" x=\"265\" y=\"-176.3\">Elemwise{second,no_inplace}</text>\n",
       "</g>\n",
       "<!-- 328261192&#45;&gt;328261416 -->\n",
       "<g class=\"edge\" id=\"edge3\"><title>328261192-&gt;328261416</title>\n",
       "<path d=\"M258.619,-249.597C259.721,-237.746 261.203,-221.817 262.461,-208.292\" fill=\"none\" stroke=\"black\"/>\n",
       "<polygon fill=\"black\" points=\"265.969,-208.365 263.411,-198.084 259,-207.717 265.969,-208.365\" stroke=\"black\"/>\n",
       "<text font-family=\"Times New Roman,serif\" font-size=\"14.00\" text-anchor=\"middle\" x=\"347\" y=\"-220.3\">0 TensorType(float32, scalar)</text>\n",
       "</g>\n",
       "<!-- 328348392 -->\n",
       "<g class=\"node\" id=\"node2\"><title>328348392</title>\n",
       "<polygon fill=\"green\" points=\"471,-374 243,-374 243,-338 471,-338 471,-374\" stroke=\"black\"/>\n",
       "<text font-family=\"Times New Roman,serif\" font-size=\"14.00\" text-anchor=\"middle\" x=\"357\" y=\"-352.3\">name=X TensorType(float32, scalar)</text>\n",
       "</g>\n",
       "<!-- 328348392&#45;&gt;328261192 -->\n",
       "<g class=\"edge\" id=\"edge1\"><title>328348392-&gt;328261192</title>\n",
       "<path d=\"M336.764,-337.597C321.658,-324.605 300.853,-306.714 284.279,-292.46\" fill=\"none\" stroke=\"black\"/>\n",
       "<polygon fill=\"black\" points=\"286.39,-289.659 276.526,-285.792 281.826,-294.966 286.39,-289.659\" stroke=\"black\"/>\n",
       "<text font-family=\"Times New Roman,serif\" font-size=\"14.00\" text-anchor=\"middle\" x=\"320\" y=\"-308.3\">0</text>\n",
       "</g>\n",
       "<!-- 328260856 -->\n",
       "<g class=\"node\" id=\"node3\"><title>328260856</title>\n",
       "<polygon fill=\"green\" points=\"224.25,-374 -0.25,-374 -0.25,-338 224.25,-338 224.25,-374\" stroke=\"black\"/>\n",
       "<text font-family=\"Times New Roman,serif\" font-size=\"14.00\" text-anchor=\"middle\" x=\"112\" y=\"-352.3\">name=y TensorType(float32, scalar)</text>\n",
       "</g>\n",
       "<!-- 328260856&#45;&gt;328261192 -->\n",
       "<g class=\"edge\" id=\"edge2\"><title>328260856-&gt;328261192</title>\n",
       "<path d=\"M140.994,-337.803C163.812,-324.27 195.754,-305.325 220.345,-290.74\" fill=\"none\" stroke=\"black\"/>\n",
       "<polygon fill=\"black\" points=\"222.226,-293.694 229.041,-285.582 218.655,-287.673 222.226,-293.694\" stroke=\"black\"/>\n",
       "<text font-family=\"Times New Roman,serif\" font-size=\"14.00\" text-anchor=\"middle\" x=\"202\" y=\"-308.3\">1</text>\n",
       "</g>\n",
       "<!-- 328259680 -->\n",
       "<g class=\"node\" id=\"node6\"><title>328259680</title>\n",
       "<ellipse cx=\"158\" cy=\"-92\" fill=\"#ffaabb\" rx=\"70.2909\" ry=\"18\" stroke=\"black\"/>\n",
       "<text font-family=\"Times New Roman,serif\" font-size=\"14.00\" text-anchor=\"middle\" x=\"158\" y=\"-88.3\">Elemwise{mul}</text>\n",
       "</g>\n",
       "<!-- 328260856&#45;&gt;328259680 -->\n",
       "<g class=\"edge\" id=\"edge6\"><title>328260856-&gt;328259680</title>\n",
       "<path d=\"M112.117,-337.961C112.689,-304.003 115.716,-225.678 131,-162 134.459,-147.59 140.272,-132.176 145.621,-119.58\" fill=\"none\" stroke=\"black\"/>\n",
       "<polygon fill=\"black\" points=\"148.943,-120.719 149.757,-110.155 142.533,-117.906 148.943,-120.719\" stroke=\"black\"/>\n",
       "<text font-family=\"Times New Roman,serif\" font-size=\"14.00\" text-anchor=\"middle\" x=\"126\" y=\"-220.3\">1</text>\n",
       "</g>\n",
       "<!-- 328261416&#45;&gt;328259680 -->\n",
       "<g class=\"edge\" id=\"edge5\"><title>328261416-&gt;328259680</title>\n",
       "<path d=\"M244.115,-162.214C227.66,-148.989 204.548,-130.413 186.41,-115.835\" fill=\"none\" stroke=\"black\"/>\n",
       "<polygon fill=\"black\" points=\"188.456,-112.988 178.469,-109.451 184.07,-118.444 188.456,-112.988\" stroke=\"black\"/>\n",
       "<text font-family=\"Times New Roman,serif\" font-size=\"14.00\" text-anchor=\"middle\" x=\"307\" y=\"-132.3\">0 TensorType(float32, scalar)</text>\n",
       "</g>\n",
       "<!-- 328261304 -->\n",
       "<g class=\"node\" id=\"node5\"><title>328261304</title>\n",
       "<polygon fill=\"green\" points=\"611.25,-286 388.75,-286 388.75,-250 611.25,-250 611.25,-286\" stroke=\"black\"/>\n",
       "<text font-family=\"Times New Roman,serif\" font-size=\"14.00\" text-anchor=\"middle\" x=\"500\" y=\"-264.3\">val=1.0 TensorType(float32, scalar)</text>\n",
       "</g>\n",
       "<!-- 328261304&#45;&gt;328261416 -->\n",
       "<g class=\"edge\" id=\"edge4\"><title>328261304-&gt;328261416</title>\n",
       "<path d=\"M483.063,-249.775C470.971,-238.476 453.761,-224.304 436,-216 415.077,-206.217 391.454,-199.157 368.594,-194.066\" fill=\"none\" stroke=\"black\"/>\n",
       "<polygon fill=\"black\" points=\"369.015,-190.577 358.507,-191.932 367.567,-197.426 369.015,-190.577\" stroke=\"black\"/>\n",
       "<text font-family=\"Times New Roman,serif\" font-size=\"14.00\" text-anchor=\"middle\" x=\"465\" y=\"-220.3\">1</text>\n",
       "</g>\n",
       "<!-- 328260912 -->\n",
       "<g class=\"node\" id=\"node7\"><title>328260912</title>\n",
       "<polygon fill=\"blue\" points=\"245.25,-36 70.75,-36 70.75,-0 245.25,-0 245.25,-36\" stroke=\"black\"/>\n",
       "<text font-family=\"Times New Roman,serif\" font-size=\"14.00\" text-anchor=\"middle\" x=\"158\" y=\"-14.3\">TensorType(float32, scalar)</text>\n",
       "</g>\n",
       "<!-- 328259680&#45;&gt;328260912 -->\n",
       "<g class=\"edge\" id=\"edge7\"><title>328259680-&gt;328260912</title>\n",
       "<path d=\"M158,-73.937C158,-65.8072 158,-55.8761 158,-46.7047\" fill=\"none\" stroke=\"black\"/>\n",
       "<polygon fill=\"black\" points=\"161.5,-46.4406 158,-36.4407 154.5,-46.4407 161.5,-46.4406\" stroke=\"black\"/>\n",
       "</g>\n",
       "</g>\n",
       "</svg>"
      ],
      "text/plain": [
       "<IPython.core.display.SVG object>"
      ]
     },
     "execution_count": 12,
     "metadata": {},
     "output_type": "execute_result"
    }
   ],
   "source": [
    "#\n",
    "# theano.tensor.grad knows how to compute derivatives!\n",
    "#\n",
    "# NB: the graph below contains many computations that we don't need. The will get removed during optimization\n",
    "svgdotprint(TT.grad(z,[x]))"
   ]
  },
  {
   "cell_type": "code",
   "execution_count": 27,
   "metadata": {
    "collapsed": false
   },
   "outputs": [
    {
     "name": "stdout",
     "output_type": "stream",
     "text": [
      "[2.0, 2.0]\n",
      "[4.0, 2.0]\n"
     ]
    }
   ],
   "source": [
    "#\n",
    "# theano.function takes a list of free variables in a computation graph, a list of outputs \n",
    "# and compiles a function which computes the values in the graph\n",
    "#\n",
    "fun = theano.function([x,y], [z] + TT.grad(z,[x]))\n",
    "\n",
    "print fun(1,2)\n",
    "print fun(2,2)"
   ]
  },
  {
   "cell_type": "code",
   "execution_count": 25,
   "metadata": {
    "collapsed": false
   },
   "outputs": [
    {
     "data": {
      "image/svg+xml": [
       "<svg height=\"206pt\" viewBox=\"0.00 0.00 479.00 206.00\" width=\"479pt\" xmlns=\"http://www.w3.org/2000/svg\" xmlns:xlink=\"http://www.w3.org/1999/xlink\">\n",
       "<g class=\"graph\" id=\"graph0\" transform=\"scale(1 1) rotate(0) translate(4 202)\">\n",
       "<title>G</title>\n",
       "<polygon fill=\"white\" points=\"-4,4 -4,-202 475,-202 475,4 -4,4\" stroke=\"white\"/>\n",
       "<!-- 327978512 -->\n",
       "<g class=\"node\" id=\"node1\"><title>327978512</title>\n",
       "<ellipse cx=\"112\" cy=\"-92\" fill=\"none\" rx=\"63.0666\" ry=\"18\" stroke=\"black\"/>\n",
       "<text font-family=\"Times New Roman,serif\" font-size=\"14.00\" text-anchor=\"middle\" x=\"112\" y=\"-88.3\">DeepCopyOp</text>\n",
       "</g>\n",
       "<!-- 327978120 -->\n",
       "<g class=\"node\" id=\"node3\"><title>327978120</title>\n",
       "<polygon fill=\"blue\" points=\"224.25,-36 -0.25,-36 -0.25,-0 224.25,-0 224.25,-36\" stroke=\"black\"/>\n",
       "<text font-family=\"Times New Roman,serif\" font-size=\"14.00\" text-anchor=\"middle\" x=\"112\" y=\"-14.3\">name=y TensorType(float32, scalar)</text>\n",
       "</g>\n",
       "<!-- 327978512&#45;&gt;327978120 -->\n",
       "<g class=\"edge\" id=\"edge2\"><title>327978512-&gt;327978120</title>\n",
       "<path d=\"M112,-73.937C112,-65.8072 112,-55.8761 112,-46.7047\" fill=\"none\" stroke=\"black\"/>\n",
       "<polygon fill=\"black\" points=\"115.5,-46.4406 112,-36.4407 108.5,-46.4407 115.5,-46.4406\" stroke=\"black\"/>\n",
       "</g>\n",
       "<!-- 326530608 -->\n",
       "<g class=\"node\" id=\"node2\"><title>326530608</title>\n",
       "<polygon fill=\"green\" points=\"224.25,-198 -0.25,-198 -0.25,-162 224.25,-162 224.25,-198\" stroke=\"black\"/>\n",
       "<text font-family=\"Times New Roman,serif\" font-size=\"14.00\" text-anchor=\"middle\" x=\"112\" y=\"-176.3\">name=y TensorType(float32, scalar)</text>\n",
       "</g>\n",
       "<!-- 326530608&#45;&gt;327978512 -->\n",
       "<g class=\"edge\" id=\"edge1\"><title>326530608-&gt;327978512</title>\n",
       "<path d=\"M112,-161.597C112,-149.746 112,-133.817 112,-120.292\" fill=\"none\" stroke=\"black\"/>\n",
       "<polygon fill=\"black\" points=\"115.5,-120.084 112,-110.084 108.5,-120.084 115.5,-120.084\" stroke=\"black\"/>\n",
       "</g>\n",
       "<!-- 327718672 -->\n",
       "<g class=\"node\" id=\"node4\"><title>327718672</title>\n",
       "<ellipse cx=\"344\" cy=\"-92\" fill=\"#ffaabb\" rx=\"113.61\" ry=\"18\" stroke=\"black\"/>\n",
       "<text font-family=\"Times New Roman,serif\" font-size=\"14.00\" text-anchor=\"middle\" x=\"344\" y=\"-88.3\">Elemwise{mul,no_inplace}</text>\n",
       "</g>\n",
       "<!-- 326530608&#45;&gt;327718672 -->\n",
       "<g class=\"edge\" id=\"edge4\"><title>326530608-&gt;327718672</title>\n",
       "<path d=\"M158.113,-161.906C196.69,-147.606 251.708,-127.212 291.876,-112.322\" fill=\"none\" stroke=\"black\"/>\n",
       "<polygon fill=\"black\" points=\"293.332,-115.515 301.492,-108.757 290.899,-108.951 293.332,-115.515\" stroke=\"black\"/>\n",
       "<text font-family=\"Times New Roman,serif\" font-size=\"14.00\" text-anchor=\"middle\" x=\"253\" y=\"-132.3\">1</text>\n",
       "</g>\n",
       "<!-- 327720576 -->\n",
       "<g class=\"node\" id=\"node6\"><title>327720576</title>\n",
       "<polygon fill=\"blue\" points=\"431.25,-36 256.75,-36 256.75,-0 431.25,-0 431.25,-36\" stroke=\"black\"/>\n",
       "<text font-family=\"Times New Roman,serif\" font-size=\"14.00\" text-anchor=\"middle\" x=\"344\" y=\"-14.3\">TensorType(float32, scalar)</text>\n",
       "</g>\n",
       "<!-- 327718672&#45;&gt;327720576 -->\n",
       "<g class=\"edge\" id=\"edge5\"><title>327718672-&gt;327720576</title>\n",
       "<path d=\"M344,-73.937C344,-65.8072 344,-55.8761 344,-46.7047\" fill=\"none\" stroke=\"black\"/>\n",
       "<polygon fill=\"black\" points=\"347.5,-46.4406 344,-36.4407 340.5,-46.4407 347.5,-46.4406\" stroke=\"black\"/>\n",
       "</g>\n",
       "<!-- 326530888 -->\n",
       "<g class=\"node\" id=\"node5\"><title>326530888</title>\n",
       "<polygon fill=\"green\" points=\"471,-198 243,-198 243,-162 471,-162 471,-198\" stroke=\"black\"/>\n",
       "<text font-family=\"Times New Roman,serif\" font-size=\"14.00\" text-anchor=\"middle\" x=\"357\" y=\"-176.3\">name=X TensorType(float32, scalar)</text>\n",
       "</g>\n",
       "<!-- 326530888&#45;&gt;327718672 -->\n",
       "<g class=\"edge\" id=\"edge3\"><title>326530888-&gt;327718672</title>\n",
       "<path d=\"M354.369,-161.597C352.578,-149.746 350.17,-133.817 348.125,-120.292\" fill=\"none\" stroke=\"black\"/>\n",
       "<polygon fill=\"black\" points=\"351.538,-119.449 346.582,-110.084 344.617,-120.495 351.538,-119.449\" stroke=\"black\"/>\n",
       "<text font-family=\"Times New Roman,serif\" font-size=\"14.00\" text-anchor=\"middle\" x=\"356\" y=\"-132.3\">0</text>\n",
       "</g>\n",
       "</g>\n",
       "</svg>"
      ],
      "text/plain": [
       "<IPython.core.display.SVG object>"
      ]
     },
     "execution_count": 25,
     "metadata": {},
     "output_type": "execute_result"
    }
   ],
   "source": [
    "#\n",
    "# This shows the optimized computation graph that got compiled\n",
    "#\n",
    "svgdotprint(fun.maker.fgraph.outputs)"
   ]
  },
  {
   "cell_type": "code",
   "execution_count": 34,
   "metadata": {
    "collapsed": true
   },
   "outputs": [],
   "source": [
    "#\n",
    "# Everything works for matrices, too\n",
    "#\n",
    "\n",
    "Theta = TT.matrix('Theta')\n",
    "X = TT.matrix('X')\n",
    "Y = TT.matrix('Y')\n",
    "\n",
    "#\n",
    "# Question: what is this model?\n",
    "#\n",
    "\n",
    "Yhat = TT.dot(Theta.T, X)\n",
    "Errs = Yhat - Y\n",
    "Loss = (Errs**2).mean()\n",
    "Loss.name = 'Loss'"
   ]
  },
  {
   "cell_type": "code",
   "execution_count": 37,
   "metadata": {
    "collapsed": false
   },
   "outputs": [
    {
     "name": "stdout",
     "output_type": "stream",
     "text": [
      "(dLoss/dTheta)\n"
     ]
    }
   ],
   "source": [
    "#\n",
    "# No more manual gradient computations\n",
    "#\n",
    "dLossdTheta = theano.grad(Loss, Theta)\n",
    "print dLossdTheta"
   ]
  },
  {
   "cell_type": "markdown",
   "metadata": {},
   "source": [
    "Shared variables in Theano are allocated storage nodes"
   ]
  },
  {
   "cell_type": "code",
   "execution_count": 40,
   "metadata": {
    "collapsed": false
   },
   "outputs": [
    {
     "data": {
      "text/plain": [
       "<TensorType(float64, matrix)>"
      ]
     },
     "execution_count": 40,
     "metadata": {},
     "output_type": "execute_result"
    }
   ],
   "source": [
    "SV = theano.shared(np.zeros((2,2)))\n",
    "SV"
   ]
  },
  {
   "cell_type": "code",
   "execution_count": 41,
   "metadata": {
    "collapsed": false
   },
   "outputs": [
    {
     "data": {
      "text/plain": [
       "Shape: (2L, 2L)\n",
       "[[ 0.  0.]\n",
       " [ 0.  0.]]"
      ]
     },
     "execution_count": 41,
     "metadata": {},
     "output_type": "execute_result"
    }
   ],
   "source": [
    "SV.get_value()"
   ]
  },
  {
   "cell_type": "code",
   "execution_count": 42,
   "metadata": {
    "collapsed": false
   },
   "outputs": [
    {
     "data": {
      "text/plain": [
       "Shape: (2L, 2L)\n",
       "[[ 1.  1.]\n",
       " [ 1.  1.]]"
      ]
     },
     "execution_count": 42,
     "metadata": {},
     "output_type": "execute_result"
    }
   ],
   "source": [
    "SV.set_value(SV.get_value()+1)\n",
    "SV.get_value()"
   ]
  },
  {
   "cell_type": "markdown",
   "metadata": {},
   "source": [
    "Shared variables are best used to store parameters of models. They can be updated during each call of a theano function by using the updates keyword"
   ]
  },
  {
   "cell_type": "code",
   "execution_count": 39,
   "metadata": {
    "collapsed": false
   },
   "outputs": [
    {
     "name": "stdout",
     "output_type": "stream",
     "text": [
      "2.05034422874\n"
     ]
    }
   ],
   "source": [
    "#\n",
    "# A complete example, from https://github.com/Newmu/Theano-Tutorials/blob/master/1_linear_regression.py\n",
    "#\n",
    "\n",
    "trX = np.linspace(-1, 1, 101)\n",
    "trY = 2 * trX + np.random.randn(*trX.shape) * 0.33\n",
    "\n",
    "X = TT.scalar()\n",
    "Y = TT.scalar()\n",
    "\n",
    "def model(X, w):\n",
    "    return X * w\n",
    "\n",
    "w = theano.shared(np.asarray(0., dtype=theano.config.floatX))\n",
    "y = model(X, w)\n",
    "\n",
    "cost = TT.mean(TT.sqr(y - Y))\n",
    "gradient = TT.grad(cost=cost, wrt=w)\n",
    "updates = [[w, w - gradient * 0.01]]\n",
    "\n",
    "train = theano.function(inputs=[X, Y], outputs=cost, updates=updates, allow_input_downcast=True)\n",
    "\n",
    "for i in range(100):\n",
    "    for x, y in zip(trX, trY):\n",
    "        train(x, y)\n",
    "        \n",
    "print w.get_value() #something around 2"
   ]
  },
  {
   "cell_type": "markdown",
   "metadata": {},
   "source": [
    "Please feel free to use Theano for projects and for homewors 5 and later!\n",
    "\n",
    "More informations:\n",
    "\n",
    "1. Tutorials by alec Radford https://github.com/Newmu/Theano-Tutorials\n",
    "1. Deep learning tutorials http://deeplearning.net/tutorial/\n",
    "2. Theano tutorials http://deeplearning.net/software/theano/tutorial/\n",
    "3. My notebook from the Matlab, R, and Python class: http://nbviewer.ipython.org/urls/sites.google.com/a/cs.uni.wroc.pl/jch/teaching/teaching/marpy/materialyzwykladow14i15/wyklad14.ipynb\n",
    "\n",
    "There are many neural network libraries built on top of Theano:\n",
    "\n",
    "1. a lightweight one, nice for learning this course https://github.com/Lasagne/Lasagne\n",
    "2. a more heavy-weight one, for research https://github.com/mila-udem/blocks\n"
   ]
  },
  {
   "cell_type": "code",
   "execution_count": null,
   "metadata": {
    "collapsed": true
   },
   "outputs": [],
   "source": []
  }
 ],
 "metadata": {
  "kernelspec": {
   "display_name": "Python 2",
   "language": "python",
   "name": "python2"
  },
  "language_info": {
   "codemirror_mode": {
    "name": "ipython",
    "version": 2
   },
   "file_extension": ".py",
   "mimetype": "text/x-python",
   "name": "python",
   "nbconvert_exporter": "python",
   "pygments_lexer": "ipython2",
   "version": "2.7.10"
  }
 },
 "nbformat": 4,
 "nbformat_minor": 0
}
