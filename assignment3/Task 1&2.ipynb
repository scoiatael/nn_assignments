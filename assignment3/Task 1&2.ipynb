{
 "cells": [
  {
   "cell_type": "code",
   "execution_count": 3,
   "metadata": {
    "collapsed": false
   },
   "outputs": [
    {
     "name": "stdout",
     "output_type": "stream",
     "text": [
      "Populating the interactive namespace from numpy and matplotlib\n"
     ]
    },
    {
     "name": "stderr",
     "output_type": "stream",
     "text": [
      "Vendor:  Continuum Analytics, Inc.\n",
      "Package: mkl\n",
      "Message: trial mode expires in 11 days\n",
      "Vendor:  Continuum Analytics, Inc.\n",
      "Package: mkl\n",
      "Message: trial mode expires in 11 days\n"
     ]
    }
   ],
   "source": [
    "%pylab inline"
   ]
  },
  {
   "cell_type": "code",
   "execution_count": 155,
   "metadata": {
    "collapsed": false
   },
   "outputs": [],
   "source": [
    "mi = lambda x: sin(x)\n",
    "om = 0.2\n",
    "\n",
    "def draw_n(n):\n",
    "    X = numpy.random.uniform(0. ,6., n)\n",
    "    X.sort()\n",
    "    Y = array([numpy.random.normal(mi(x), om) for x in X])\n",
    "    return X, Y"
   ]
  },
  {
   "cell_type": "code",
   "execution_count": 156,
   "metadata": {
    "collapsed": false
   },
   "outputs": [],
   "source": [
    "Xp,Y = draw_n(30)"
   ]
  },
  {
   "cell_type": "code",
   "execution_count": 173,
   "metadata": {
    "collapsed": false
   },
   "outputs": [
    {
     "data": {
      "text/plain": [
       "((30,), (30, 5), (1,), (30,))"
      ]
     },
     "execution_count": 173,
     "metadata": {},
     "output_type": "execute_result"
    }
   ],
   "source": [
    "alpha = lambda D: array([ exp(-(abs(Y[i] - mi(Xp[i])))/D) for i in range(Xp.size)])\n",
    "D = 1.0\n",
    "A = alpha(D)\n",
    "T = array([0.2])\n",
    "X = array([array([1, x, x**2, x**3, x**4]) for x in Xp])\n",
    "Y.shape, X.shape, T.shape, A.shape"
   ]
  },
  {
   "cell_type": "code",
   "execution_count": 174,
   "metadata": {
    "collapsed": false
   },
   "outputs": [],
   "source": [
    "T_Opt = (A.T*Y.T).dot(X).dot(inv(X.T.dot(X)))"
   ]
  },
  {
   "cell_type": "code",
   "execution_count": 213,
   "metadata": {
    "collapsed": false
   },
   "outputs": [
    {
     "data": {
      "text/plain": [
       "array([ 1.        ,  1.12201845,  1.25892541,  1.41253754,  1.58489319])"
      ]
     },
     "execution_count": 213,
     "metadata": {},
     "output_type": "execute_result"
    }
   ],
   "source": [
    "C = logspace(0., 0.2, 5)\n",
    "C"
   ]
  },
  {
   "cell_type": "code",
   "execution_count": 214,
   "metadata": {
    "collapsed": false
   },
   "outputs": [],
   "source": [
    "T_Opt2 = X.T.dot(A*Y.T).dot(inv(X.T.dot(diag(A).dot(X)) - diag(C)))"
   ]
  },
  {
   "cell_type": "code",
   "execution_count": 215,
   "metadata": {
    "collapsed": false,
    "scrolled": true
   },
   "outputs": [
    {
     "data": {
      "text/plain": [
       "(-0.15591630216276448, 0.087378425808141758)"
      ]
     },
     "execution_count": 215,
     "metadata": {},
     "output_type": "execute_result"
    }
   ],
   "source": [
    "T_Opt.dot(X[0]), T_Opt2.dot(X[0])"
   ]
  },
  {
   "cell_type": "code",
   "execution_count": 216,
   "metadata": {
    "collapsed": false
   },
   "outputs": [
    {
     "data": {
      "text/plain": [
       "<matplotlib.legend.Legend at 0x7f4c35d2d6d0>"
      ]
     },
     "execution_count": 216,
     "metadata": {},
     "output_type": "execute_result"
    },
    {
     "data": {
      "image/png": "[encoded data removed]",
      "text/plain": [
       "<matplotlib.figure.Figure at 0x7f4c35e78350>"
      ]
     },
     "metadata": {},
     "output_type": "display_data"
    }
   ],
   "source": [
    "plot(Xp, Y, label='drawn')\n",
    "plot(Xp, mi(Xp), label='ideal')\n",
    "plot(Xp, [T_Opt.dot(x) for x in X], label='T_Opt')\n",
    "plot(Xp, [T_Opt2.dot(x) for x in X], label = 'T_Opt2')\n",
    "legend()"
   ]
  },
  {
   "cell_type": "code",
   "execution_count": 182,
   "metadata": {
    "collapsed": false
   },
   "outputs": [
    {
     "data": {
      "text/plain": [
       "(array([ -3.04422399e+00,  -3.15751322e+01,  -1.72546466e+02,\n",
       "         -8.51412469e+02,  -4.13104161e+03]),\n",
       " array([  -1494.02455132,   79735.15533486, -191358.64136734,\n",
       "         118756.90344246,  -10829.01275537]))"
      ]
     },
     "execution_count": 182,
     "metadata": {},
     "output_type": "execute_result"
    }
   ],
   "source": [
    "T_Opt.dot(X.T.dot(X))"
   ]
  },
  {
   "cell_type": "code",
   "execution_count": null,
   "metadata": {
    "collapsed": true
   },
   "outputs": [],
   "source": []
  }
 ],
 "metadata": {
  "kernelspec": {
   "display_name": "Python 2",
   "language": "python",
   "name": "python2"
  },
  "language_info": {
   "codemirror_mode": {
    "name": "ipython",
    "version": 2
   },
   "file_extension": ".py",
   "mimetype": "text/x-python",
   "name": "python",
   "nbconvert_exporter": "python",
   "pygments_lexer": "ipython2",
   "version": "2.7.10"
  }
 },
 "nbformat": 4,
 "nbformat_minor": 0
}
