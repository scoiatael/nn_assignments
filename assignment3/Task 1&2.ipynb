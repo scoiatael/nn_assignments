{
 "cells": [
  {
   "cell_type": "code",
   "execution_count": 3,
   "metadata": {
    "collapsed": false
   },
   "outputs": [
    {
     "name": "stdout",
     "output_type": "stream",
     "text": [
      "Populating the interactive namespace from numpy and matplotlib\n"
     ]
    },
    {
     "name": "stderr",
     "output_type": "stream",
     "text": [
      "Vendor:  Continuum Analytics, Inc.\n",
      "Package: mkl\n",
      "Message: trial mode expires in 11 days\n",
      "Vendor:  Continuum Analytics, Inc.\n",
      "Package: mkl\n",
      "Message: trial mode expires in 11 days\n"
     ]
    }
   ],
   "source": [
    "%pylab inline"
   ]
  },
  {
   "cell_type": "code",
   "execution_count": 155,
   "metadata": {
    "collapsed": false
   },
   "outputs": [],
   "source": [
    "mi = lambda x: sin(x)\n",
    "om = 0.2\n",
    "\n",
    "def draw_n(n):\n",
    "    X = numpy.random.uniform(0. ,6., n)\n",
    "    X.sort()\n",
    "    Y = array([numpy.random.normal(mi(x), om) for x in X])\n",
    "    return X, Y"
   ]
  },
  {
   "cell_type": "code",
   "execution_count": 156,
   "metadata": {
    "collapsed": false
   },
   "outputs": [],
   "source": [
    "Xp,Y = draw_n(30)"
   ]
  },
  {
   "cell_type": "code",
   "execution_count": 259,
   "metadata": {
    "collapsed": false
   },
   "outputs": [
    {
     "data": {
      "text/plain": [
       "((30,), (30, 5), (1,), (30,), (30, 30))"
      ]
     },
     "execution_count": 259,
     "metadata": {},
     "output_type": "execute_result"
    }
   ],
   "source": [
    "alpha = lambda D: array([ exp(-(abs(Y[i] - mi(Xp[i])))/D) for i in range(Xp.size)])\n",
    "D = 1.0\n",
    "A = alpha(D)\n",
    "T = array([0.2])\n",
    "X = array([array([1, x, x**2, x**3, x**4]) for x in Xp])\n",
    "Y.shape, X.shape, T.shape, A.shape, diag(A).shape"
   ]
  },
  {
   "cell_type": "code",
   "execution_count": 291,
   "metadata": {
    "collapsed": false
   },
   "outputs": [],
   "source": [
    "T_Opt = (A.T*Y.T).dot(X).dot(inv(X.T.dot(diag(A)).dot(X)))"
   ]
  },
  {
   "cell_type": "code",
   "execution_count": 377,
   "metadata": {
    "collapsed": false
   },
   "outputs": [
    {
     "data": {
      "text/plain": [
       "array([  1.00000000e+00,   3.16227766e+02,   1.00000000e+05,\n",
       "         3.16227766e+07,   1.00000000e+10])"
      ]
     },
     "execution_count": 377,
     "metadata": {},
     "output_type": "execute_result"
    }
   ],
   "source": [
    "C = logspace(0., 10., 5)\n",
    "C"
   ]
  },
  {
   "cell_type": "code",
   "execution_count": 378,
   "metadata": {
    "collapsed": false
   },
   "outputs": [],
   "source": [
    "T_Opt2 = X.T.dot(A*Y.T).dot(inv(X.T.dot(diag(A)).dot(X) - diag(C)))"
   ]
  },
  {
   "cell_type": "code",
   "execution_count": 379,
   "metadata": {
    "collapsed": false,
    "scrolled": true
   },
   "outputs": [
    {
     "data": {
      "text/plain": [
       "(-0.18410244289432845,\n",
       " -0.43201163519912339,\n",
       " array([-0.18749566,  1.91240643, -0.85147368,  0.07300551,  0.00295432]),\n",
       " array([ -4.32173291e-01,   9.10332718e-02,   1.73479443e-03,\n",
       "          2.81141760e-05,   4.41628175e-07]))"
      ]
     },
     "execution_count": 379,
     "metadata": {},
     "output_type": "execute_result"
    }
   ],
   "source": [
    "T_Opt.dot(X[0]), T_Opt2.dot(X[0]), T_Opt, T_Opt2"
   ]
  },
  {
   "cell_type": "code",
   "execution_count": 380,
   "metadata": {
    "collapsed": false
   },
   "outputs": [
    {
     "data": {
      "text/plain": [
       "<matplotlib.legend.Legend at 0x7f4c33e7ffd0>"
      ]
     },
     "execution_count": 380,
     "metadata": {},
     "output_type": "execute_result"
    },
    {
     "data": {
      "image/png": "[encoded data removed]",
      "text/plain": [
       "<matplotlib.figure.Figure at 0x7f4c3439b150>"
      ]
     },
     "metadata": {},
     "output_type": "display_data"
    }
   ],
   "source": [
    "plot(Xp, Y, label='drawn')\n",
    "plot(Xp, mi(Xp), label='ideal')\n",
    "plot(Xp, [T_Opt.dot(x) for x in X], label='T_Opt')\n",
    "plot(Xp, [T_Opt2.dot(x) for x in X], label = 'T_Opt2')\n",
    "legend()"
   ]
  },
  {
   "cell_type": "code",
   "execution_count": 359,
   "metadata": {
    "collapsed": false
   },
   "outputs": [
    {
     "data": {
      "text/plain": [
       "array([ -4.11774064e+00,  -3.85056326e+01,  -2.07980818e+02,\n",
       "        -1.02198473e+03,  -4.94331471e+03])"
      ]
     },
     "execution_count": 359,
     "metadata": {},
     "output_type": "execute_result"
    }
   ],
   "source": [
    "T_Opt.dot(X.T.dot(X))"
   ]
  },
  {
   "cell_type": "code",
   "execution_count": null,
   "metadata": {
    "collapsed": true
   },
   "outputs": [],
   "source": []
  }
 ],
 "metadata": {
  "kernelspec": {
   "display_name": "Python 2",
   "language": "python",
   "name": "python2"
  },
  "language_info": {
   "codemirror_mode": {
    "name": "ipython",
    "version": 2
   },
   "file_extension": ".py",
   "mimetype": "text/x-python",
   "name": "python",
   "nbconvert_exporter": "python",
   "pygments_lexer": "ipython2",
   "version": "2.7.10"
  }
 },
 "nbformat": 4,
 "nbformat_minor": 0
}
